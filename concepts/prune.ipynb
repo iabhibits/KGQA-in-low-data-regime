{
 "cells": [
  {
   "cell_type": "code",
   "execution_count": 3,
   "metadata": {},
   "outputs": [
    {
     "name": "stderr",
     "output_type": "stream",
     "text": [
      "[nltk_data] Downloading package stopwords to\n",
      "[nltk_data]     /home/abhishek/nltk_data...\n",
      "[nltk_data]   Package stopwords is already up-to-date!\n"
     ]
    }
   ],
   "source": [
    "from tqdm.notebook import tqdm\n",
    "import nltk\n",
    "import json\n",
    "# print('NLTK Version: %s' % (nltk.__version__))\n",
    "nltk.download('stopwords')\n",
    "nltk_stopwords = nltk.corpus.stopwords.words('english')\n",
    "nltk_stopwords += [\"like\", \"gone\", \"did\", \"going\", \"would\", \"could\", \"get\", \"in\", \"up\", \"may\", \"wanter\"]\n",
    "#print(nltk_stopwords)\n",
    "# print(nltk_stopwords)\n",
    "import configparser\n",
    "import sys"
   ]
  },
  {
   "cell_type": "code",
   "execution_count": 4,
   "metadata": {},
   "outputs": [],
   "source": [
    "data = []\n",
    "concept_vocab = set()\n",
    "config = configparser.ConfigParser()\n",
    "config.read(\"paths.cfg\")\n",
    "with open(config[\"paths\"][\"concept_vocab\"], \"r\", encoding=\"utf8\") as f:\n",
    "    cpnet_vocab = set([l.strip() for l in list(f.readlines())])"
   ]
  },
  {
   "cell_type": "code",
   "execution_count": 5,
   "metadata": {},
   "outputs": [],
   "source": [
    "#cpnet_vocab\n",
    "path = './../datasets/arc_data/'"
   ]
  },
  {
   "cell_type": "code",
   "execution_count": 6,
   "metadata": {},
   "outputs": [],
   "source": [
    "with open(path+\"arc_concept_final.mcp\",'r') as file:\n",
    "    concepts = json.load(file)"
   ]
  },
  {
   "cell_type": "code",
   "execution_count": 11,
   "metadata": {},
   "outputs": [],
   "source": [
    "def prunning(data):\n",
    "    prune_data = []\n",
    "    for item in data:\n",
    "        qc = item[\"premise\"]\n",
    "        prune_qc = []\n",
    "        for c in qc:\n",
    "            if c[-2:] == \"er\" and c[:-2] in qc:\n",
    "                continue\n",
    "            if c[-1:] == \"e\" and c[:-1] in qc:\n",
    "                continue\n",
    "            have_stop = False\n",
    "            for t in c.split(\"_\"):\n",
    "                if t in nltk_stopwords:\n",
    "                    have_stop = True\n",
    "            if not have_stop and c in cpnet_vocab:\n",
    "                prune_qc.append(c)\n",
    "\n",
    "        ac = item[\"hypothesis\"]\n",
    "        prune_ac = []\n",
    "        for c in ac:\n",
    "            if c[-2:] == \"er\" and c[:-2] in ac:\n",
    "                continue\n",
    "            if c[-1:] == \"e\" and c[:-1] in ac:\n",
    "                continue\n",
    "            all_stop = True\n",
    "            for t in c.split(\"_\"):\n",
    "                if t not in nltk_stopwords:\n",
    "                    all_stop = False\n",
    "            if not all_stop and c in cpnet_vocab:\n",
    "                prune_ac.append(c)\n",
    "\n",
    "        item[\"premise\"] = prune_qc\n",
    "        item[\"hypothesis\"] = prune_ac\n",
    "\n",
    "        prune_data.append(item)\n",
    "    return prune_data"
   ]
  },
  {
   "cell_type": "code",
   "execution_count": 12,
   "metadata": {},
   "outputs": [],
   "source": [
    "def process_prune(examples):\n",
    "    final_res=[]\n",
    "    for example in tqdm(examples):\n",
    "        con = []\n",
    "        for i in example:\n",
    "            x = prunning(i)\n",
    "            con.append(x)\n",
    "        final_res.append(con)\n",
    "    return final_res"
   ]
  },
  {
   "cell_type": "code",
   "execution_count": 13,
   "metadata": {},
   "outputs": [
    {
     "data": {
      "application/vnd.jupyter.widget-view+json": {
       "model_id": "fbc2d6ade3ed40a8a1b7c07dd94f2960",
       "version_major": 2,
       "version_minor": 0
      },
      "text/plain": [
       "HBox(children=(FloatProgress(value=0.0, max=3353.0), HTML(value='')))"
      ]
     },
     "metadata": {},
     "output_type": "display_data"
    },
    {
     "name": "stdout",
     "output_type": "stream",
     "text": [
      "\n"
     ]
    }
   ],
   "source": [
    "final_con = process_prune(concepts)"
   ]
  },
  {
   "cell_type": "code",
   "execution_count": 15,
   "metadata": {},
   "outputs": [
    {
     "data": {
      "text/plain": [
       "4"
      ]
     },
     "execution_count": 15,
     "metadata": {},
     "output_type": "execute_result"
    }
   ],
   "source": [
    "len(final_con[0])"
   ]
  },
  {
   "cell_type": "code",
   "execution_count": 16,
   "metadata": {},
   "outputs": [
    {
     "data": {
      "text/plain": [
       "3353"
      ]
     },
     "execution_count": 16,
     "metadata": {},
     "output_type": "execute_result"
    }
   ],
   "source": [
    "len(final_con)"
   ]
  },
  {
   "cell_type": "code",
   "execution_count": 17,
   "metadata": {},
   "outputs": [],
   "source": [
    "import jsbeautifier\n",
    "opts = jsbeautifier.default_options()\n",
    "opts.indent_size = 2\n",
    "\n",
    "with open(path+'arc_train_final.mcp', 'w') as fp:\n",
    "    # json.dump(prune_data, f)\n",
    "    fp.write(jsbeautifier.beautify(json.dumps(final_con), opts))"
   ]
  },
  {
   "cell_type": "code",
   "execution_count": null,
   "metadata": {},
   "outputs": [],
   "source": []
  }
 ],
 "metadata": {
  "kernelspec": {
   "display_name": "Python 3",
   "language": "python",
   "name": "python3"
  },
  "language_info": {
   "codemirror_mode": {
    "name": "ipython",
    "version": 3
   },
   "file_extension": ".py",
   "mimetype": "text/x-python",
   "name": "python",
   "nbconvert_exporter": "python",
   "pygments_lexer": "ipython3",
   "version": "3.7.6"
  }
 },
 "nbformat": 4,
 "nbformat_minor": 2
}
