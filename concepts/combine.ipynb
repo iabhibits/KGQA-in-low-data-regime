{
 "cells": [
  {
   "cell_type": "code",
   "execution_count": 1,
   "metadata": {},
   "outputs": [],
   "source": [
    "import os\n",
    "import glob\n",
    "import json\n",
    "from tqdm.notebook import tqdm"
   ]
  },
  {
   "cell_type": "code",
   "execution_count": 2,
   "metadata": {},
   "outputs": [],
   "source": [
    "def get_inputfiles(path):\n",
    "    filenames = glob.glob(os.path.join(path,'*.mcp'))\n",
    "    return filenames"
   ]
  },
  {
   "cell_type": "code",
   "execution_count": 3,
   "metadata": {},
   "outputs": [],
   "source": [
    "train_path = './../datasets/ob_data/train/'\n",
    "easy_path = './../datasets/ob_data/dev/'\n",
    "test_path = './../datasets/ob_data/test/'"
   ]
  },
  {
   "cell_type": "code",
   "execution_count": 4,
   "metadata": {},
   "outputs": [],
   "source": [
    "#easy_path0= './../datasets/arc_data/arc_easy/'"
   ]
  },
  {
   "cell_type": "code",
   "execution_count": 5,
   "metadata": {},
   "outputs": [],
   "source": [
    "train_filename = get_inputfiles(train_path)\n",
    "easy_filename = get_inputfiles(easy_path)\n",
    "test_filename = get_inputfiles(test_path)"
   ]
  },
  {
   "cell_type": "code",
   "execution_count": 6,
   "metadata": {},
   "outputs": [
    {
     "data": {
      "text/plain": [
       "['./../datasets/ob_data/dev/ob_concepts_dev0.mcp']"
      ]
     },
     "execution_count": 6,
     "metadata": {},
     "output_type": "execute_result"
    }
   ],
   "source": [
    "easy_filename"
   ]
  },
  {
   "cell_type": "code",
   "execution_count": 10,
   "metadata": {},
   "outputs": [],
   "source": [
    "def combine(NUM_BATCHES,path,typ=\"test\"):\n",
    "    final_json = []\n",
    "    for i in range(NUM_BATCHES):\n",
    "        with open(path+\"ob_concepts\"+ \"%d.mcp\"%i) as fp:\n",
    "            print(path+\"ob_concepts\"+ \"%d.mcp\"%i)\n",
    "            tmp_list = json.load(fp)\n",
    "        final_json += tmp_list\n",
    "    import jsbeautifier\n",
    "    opts = jsbeautifier.default_options()\n",
    "    opts.indent_size = 2\n",
    "\n",
    "\n",
    "    with open(path+ \"ob_concepts_\"+str(typ)+\"_final.mcp\", 'w') as fp:\n",
    "        fp.write(jsbeautifier.beautify(json.dumps(final_json), opts))\n"
   ]
  },
  {
   "cell_type": "code",
   "execution_count": 11,
   "metadata": {},
   "outputs": [
    {
     "name": "stdout",
     "output_type": "stream",
     "text": [
      "./../datasets/ob_data/train/ob_concepts0.mcp\n",
      "./../datasets/ob_data/train/ob_concepts1.mcp\n",
      "./../datasets/ob_data/train/ob_concepts2.mcp\n",
      "./../datasets/ob_data/train/ob_concepts3.mcp\n",
      "./../datasets/ob_data/train/ob_concepts4.mcp\n",
      "./../datasets/ob_data/train/ob_concepts5.mcp\n",
      "./../datasets/ob_data/train/ob_concepts6.mcp\n",
      "./../datasets/ob_data/train/ob_concepts7.mcp\n",
      "./../datasets/ob_data/train/ob_concepts8.mcp\n",
      "./../datasets/ob_data/train/ob_concepts9.mcp\n"
     ]
    }
   ],
   "source": [
    "combine(10,train_path,\"train\")"
   ]
  },
  {
   "cell_type": "code",
   "execution_count": 13,
   "metadata": {},
   "outputs": [
    {
     "name": "stdout",
     "output_type": "stream",
     "text": [
      "./../datasets/arc_data/arc_test/arc_concepts_test0.mcp\n",
      "./../datasets/arc_data/arc_test/arc_concepts_test1.mcp\n",
      "./../datasets/arc_data/arc_test/arc_concepts_test2.mcp\n",
      "./../datasets/arc_data/arc_test/arc_concepts_test3.mcp\n",
      "./../datasets/arc_data/arc_test/arc_concepts_test4.mcp\n",
      "./../datasets/arc_data/arc_test/arc_concepts_test5.mcp\n",
      "./../datasets/arc_data/arc_test/arc_concepts_test6.mcp\n",
      "./../datasets/arc_data/arc_test/arc_concepts_test7.mcp\n"
     ]
    }
   ],
   "source": [
    "combine(8,test_path,\"test\")"
   ]
  },
  {
   "cell_type": "code",
   "execution_count": 61,
   "metadata": {},
   "outputs": [],
   "source": [
    "with open(path+'arc_concepts0.mcp','r') as f:\n",
    "    data0 = json.load(f)"
   ]
  },
  {
   "cell_type": "code",
   "execution_count": 62,
   "metadata": {},
   "outputs": [
    {
     "data": {
      "text/plain": [
       "250"
      ]
     },
     "execution_count": 62,
     "metadata": {},
     "output_type": "execute_result"
    }
   ],
   "source": [
    "len(data0)"
   ]
  },
  {
   "cell_type": "code",
   "execution_count": 64,
   "metadata": {},
   "outputs": [],
   "source": [
    "with open(path+'arc_concepts1.mcp','r') as f:\n",
    "    data1 = json.load(f)"
   ]
  },
  {
   "cell_type": "code",
   "execution_count": 65,
   "metadata": {},
   "outputs": [
    {
     "data": {
      "text/plain": [
       "249"
      ]
     },
     "execution_count": 65,
     "metadata": {},
     "output_type": "execute_result"
    }
   ],
   "source": [
    "len(data1)"
   ]
  },
  {
   "cell_type": "code",
   "execution_count": 66,
   "metadata": {},
   "outputs": [],
   "source": [
    "data0.append(rem_concept[0])"
   ]
  },
  {
   "cell_type": "code",
   "execution_count": 68,
   "metadata": {},
   "outputs": [
    {
     "data": {
      "text/plain": [
       "251"
      ]
     },
     "execution_count": 68,
     "metadata": {},
     "output_type": "execute_result"
    }
   ],
   "source": [
    "len(data0)"
   ]
  },
  {
   "cell_type": "code",
   "execution_count": 69,
   "metadata": {},
   "outputs": [],
   "source": [
    "data1.append(rem_concept[1])"
   ]
  },
  {
   "cell_type": "code",
   "execution_count": 70,
   "metadata": {},
   "outputs": [
    {
     "data": {
      "text/plain": [
       "250"
      ]
     },
     "execution_count": 70,
     "metadata": {},
     "output_type": "execute_result"
    }
   ],
   "source": [
    "len(data1)"
   ]
  },
  {
   "cell_type": "code",
   "execution_count": 73,
   "metadata": {},
   "outputs": [],
   "source": [
    "with open(path+\"arc_concept01.mcp\",\"w\") as f:\n",
    "    json.dump(data1,f)"
   ]
  },
  {
   "cell_type": "code",
   "execution_count": 74,
   "metadata": {},
   "outputs": [],
   "source": [
    "with open(path+\"arc_concept00.mcp\",\"w\") as f:\n",
    "    json.dump(data0,f)"
   ]
  },
  {
   "cell_type": "code",
   "execution_count": 27,
   "metadata": {},
   "outputs": [],
   "source": [
    "with open(easy_path+\"arc_concepts_easy_final.mcp\") as f:\n",
    "    easy_data = json.load(f)"
   ]
  },
  {
   "cell_type": "code",
   "execution_count": 4,
   "metadata": {},
   "outputs": [],
   "source": [
    "def load_data(path,typ):\n",
    "    with open(path+\"arc_concepts_\"+str(typ)+\"_final.mcp\",\"r\") as fp:\n",
    "        data = json.load(fp)\n",
    "    return data"
   ]
  },
  {
   "cell_type": "code",
   "execution_count": null,
   "metadata": {},
   "outputs": [],
   "source": [
    "easy_path = \"./\""
   ]
  },
  {
   "cell_type": "code",
   "execution_count": 3,
   "metadata": {},
   "outputs": [],
   "source": [
    "def truncate_concepts(data):\n",
    "    temp = []\n",
    "    for example in tqdm(data):\n",
    "        t = []\n",
    "        for ex in example:\n",
    "            x = {}\n",
    "            #print(ex)\n",
    "            x['option'] = ex[0]['option']\n",
    "            x['premise'] = ex[0]['premise'][:100]\n",
    "            x['hypothesis'] = ex[0]['hypothesis']\n",
    "            x['ans'] = ex[0]['ans']\n",
    "            t.append(x)\n",
    "        temp.append(t)\n",
    "    print(len(temp))\n",
    "    return temp"
   ]
  },
  {
   "cell_type": "code",
   "execution_count": 29,
   "metadata": {},
   "outputs": [
    {
     "data": {
      "application/vnd.jupyter.widget-view+json": {
       "model_id": "434654ff1f2c470d938fa0f0b62ccadf",
       "version_major": 2,
       "version_minor": 0
      },
      "text/plain": [
       "HBox(children=(FloatProgress(value=0.0, max=2359.0), HTML(value='')))"
      ]
     },
     "metadata": {},
     "output_type": "display_data"
    },
    {
     "name": "stdout",
     "output_type": "stream",
     "text": [
      "\n",
      "2359\n"
     ]
    }
   ],
   "source": [
    "temp = truncate_concepts(easy_data)"
   ]
  },
  {
   "cell_type": "code",
   "execution_count": 30,
   "metadata": {},
   "outputs": [],
   "source": [
    "import jsbeautifier\n",
    "opts = jsbeautifier.default_options()\n",
    "opts.indent_size = 2\n",
    "\n",
    "with open(easy_path+\"arc_easy_50.mcp\",\"w\") as fp:\n",
    "    fp.write(jsbeautifier.beautify(json.dumps(temp), opts))"
   ]
  },
  {
   "cell_type": "code",
   "execution_count": 31,
   "metadata": {},
   "outputs": [],
   "source": [
    "with open(test_path+\"arc_concepts_test_final.mcp\") as f:\n",
    "    test_data = json.load(f)"
   ]
  },
  {
   "cell_type": "code",
   "execution_count": 32,
   "metadata": {},
   "outputs": [
    {
     "data": {
      "application/vnd.jupyter.widget-view+json": {
       "model_id": "cd915377155545989bc63f4b7604e9bf",
       "version_major": 2,
       "version_minor": 0
      },
      "text/plain": [
       "HBox(children=(FloatProgress(value=0.0, max=1161.0), HTML(value='')))"
      ]
     },
     "metadata": {},
     "output_type": "display_data"
    },
    {
     "name": "stdout",
     "output_type": "stream",
     "text": [
      "\n",
      "1161\n"
     ]
    }
   ],
   "source": [
    "temp = truncate_concepts(test_data)"
   ]
  },
  {
   "cell_type": "code",
   "execution_count": null,
   "metadata": {},
   "outputs": [],
   "source": [
    "import jsbeautifier\n",
    "opts = jsbeautifier.default_options()\n",
    "opts.indent_size = 2\n",
    "\n",
    "with open(test_path+\"arc_test_50.mcp\",\"w\") as fp:\n",
    "    fp.write(jsbeautifier.beautify(json.dumps(temp), opts))"
   ]
  },
  {
   "cell_type": "code",
   "execution_count": 17,
   "metadata": {},
   "outputs": [],
   "source": [
    "test_path= \"./../datasets/arc_data/arc_test/test_path/\"\n",
    "easy_path= \"./../datasets/arc_data/arc_easy/easy_path/\"\n",
    "epath_name = get_inputfiles(easy_path)\n",
    "tpath_name = get_inputfiles(test_path)"
   ]
  },
  {
   "cell_type": "code",
   "execution_count": 2,
   "metadata": {},
   "outputs": [],
   "source": [
    "easy_path1 = \"./../datasets/arc_data/arc_easy/\""
   ]
  },
  {
   "cell_type": "code",
   "execution_count": 18,
   "metadata": {},
   "outputs": [
    {
     "data": {
      "text/plain": [
       "['./../datasets/arc_data/arc_easy/easy_path/arc_50_path_easy2.mcp',\n",
       " './../datasets/arc_data/arc_easy/easy_path/arc_50_path_easy1.mcp',\n",
       " './../datasets/arc_data/arc_easy/easy_path/arc_50_path_easy0.mcp',\n",
       " './../datasets/arc_data/arc_easy/easy_path/arc_50_path_easy3.mcp']"
      ]
     },
     "execution_count": 18,
     "metadata": {},
     "output_type": "execute_result"
    }
   ],
   "source": [
    "epath_name"
   ]
  },
  {
   "cell_type": "code",
   "execution_count": 22,
   "metadata": {},
   "outputs": [
    {
     "data": {
      "text/plain": [
       "['./../datasets/arc_data/arc_test/test_path/arc_50_path_test3.mcp',\n",
       " './../datasets/arc_data/arc_test/test_path/arc_50_path_test1.mcp',\n",
       " './../datasets/arc_data/arc_test/test_path/arc_50_path_test0.mcp',\n",
       " './../datasets/arc_data/arc_test/test_path/arc_50_path_test2.mcp']"
      ]
     },
     "execution_count": 22,
     "metadata": {},
     "output_type": "execute_result"
    }
   ],
   "source": [
    "tpath_name"
   ]
  },
  {
   "cell_type": "code",
   "execution_count": 3,
   "metadata": {},
   "outputs": [],
   "source": [
    "def pathfile_combine(path,n,typ):\n",
    "    final_json = []\n",
    "    for i in range(n):\n",
    "        with open(path+\"arc_50_path_\"+str(typ)+ \"%d.mcp\"%i) as fp:\n",
    "            print(path+\"arc_50_path_\"+str(typ)+ \"%d.mcp\"%i)\n",
    "            tmp_list = json.load(fp)\n",
    "        final_json += tmp_list\n",
    "    with open(path+ \"arc_path_\"+str(typ)+\"_final.mcp\", 'w') as fp:\n",
    "            json.dump(final_json,fp)"
   ]
  },
  {
   "cell_type": "code",
   "execution_count": 6,
   "metadata": {},
   "outputs": [
    {
     "name": "stdout",
     "output_type": "stream",
     "text": [
      "./../datasets/arc_data/arc_easy/arc_50_path_easy0.mcp\n",
      "./../datasets/arc_data/arc_easy/arc_50_path_easy1.mcp\n"
     ]
    }
   ],
   "source": [
    "pathfile_combine(easy_path1,2,\"easy\")"
   ]
  },
  {
   "cell_type": "code",
   "execution_count": 23,
   "metadata": {},
   "outputs": [
    {
     "name": "stdout",
     "output_type": "stream",
     "text": [
      "./../datasets/arc_data/arc_test/test_path/arc_50_path_test0.mcp\n",
      "./../datasets/arc_data/arc_test/test_path/arc_50_path_test1.mcp\n",
      "./../datasets/arc_data/arc_test/test_path/arc_50_path_test2.mcp\n"
     ]
    }
   ],
   "source": [
    "pathfile_combine(test_path,3,\"test\")"
   ]
  },
  {
   "cell_type": "code",
   "execution_count": 9,
   "metadata": {},
   "outputs": [
    {
     "name": "stdout",
     "output_type": "stream",
     "text": [
      "../datasets/arc_data/path/arc_50_path0.mcp\n",
      "../datasets/arc_data/path/arc_50_path1.mcp\n",
      "../datasets/arc_data/path/arc_50_path2.mcp\n",
      "../datasets/arc_data/path/arc_50_path3.mcp\n",
      "../datasets/arc_data/path/arc_50_path4.mcp\n",
      "../datasets/arc_data/path/arc_50_path5.mcp\n",
      "../datasets/arc_data/path/arc_50_path6.mcp\n"
     ]
    }
   ],
   "source": [
    "pathfile_combine(filename,pathfile)"
   ]
  },
  {
   "cell_type": "code",
   "execution_count": 24,
   "metadata": {},
   "outputs": [],
   "source": [
    "with open(easy_path+ \"arc_path_easy_final.mcp\",\"r\") as fp:\n",
    "    easyp = json.load(fp)"
   ]
  },
  {
   "cell_type": "code",
   "execution_count": 29,
   "metadata": {},
   "outputs": [
    {
     "data": {
      "text/plain": [
       "1161"
      ]
     },
     "execution_count": 29,
     "metadata": {},
     "output_type": "execute_result"
    }
   ],
   "source": [
    "len(easyp)//4"
   ]
  },
  {
   "cell_type": "code",
   "execution_count": 27,
   "metadata": {},
   "outputs": [],
   "source": [
    "with open(test_path+ \"arc_path_test_final.mcp\",\"r\") as fp:\n",
    "    testp = json.load(fp)"
   ]
  },
  {
   "cell_type": "code",
   "execution_count": 30,
   "metadata": {},
   "outputs": [
    {
     "data": {
      "text/plain": [
       "1161"
      ]
     },
     "execution_count": 30,
     "metadata": {},
     "output_type": "execute_result"
    }
   ],
   "source": [
    "len(testp)//4"
   ]
  },
  {
   "cell_type": "code",
   "execution_count": null,
   "metadata": {},
   "outputs": [],
   "source": []
  }
 ],
 "metadata": {
  "kernelspec": {
   "display_name": "Python 3",
   "language": "python",
   "name": "python3"
  },
  "language_info": {
   "codemirror_mode": {
    "name": "ipython",
    "version": 3
   },
   "file_extension": ".py",
   "mimetype": "text/x-python",
   "name": "python",
   "nbconvert_exporter": "python",
   "pygments_lexer": "ipython3",
   "version": "3.7.6"
  }
 },
 "nbformat": 4,
 "nbformat_minor": 2
}
