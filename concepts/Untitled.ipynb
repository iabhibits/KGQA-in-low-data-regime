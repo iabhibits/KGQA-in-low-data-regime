{
 "cells": [
  {
   "cell_type": "code",
   "execution_count": 1,
   "metadata": {},
   "outputs": [],
   "source": [
    "from grounding_concepts import *"
   ]
  },
  {
   "cell_type": "code",
   "execution_count": 2,
   "metadata": {},
   "outputs": [],
   "source": [
    "import re\n",
    "import string\n",
    "import pandas as pd"
   ]
  },
  {
   "cell_type": "code",
   "execution_count": 3,
   "metadata": {},
   "outputs": [],
   "source": [
    "from __future__ import absolute_import\n",
    "\n",
    "import argparse\n",
    "import csv\n",
    "import logging\n",
    "import os\n",
    "import random\n",
    "import sys\n",
    "from io import open\n",
    "\n",
    "import numpy as np\n",
    "import torch\n",
    "from torch.utils.data import (DataLoader, RandomSampler, SequentialSampler,\n",
    "                              TensorDataset)\n",
    "from torch.utils.data.distributed import DistributedSampler\n",
    "from tqdm.notebook import tqdm, trange\n",
    "import os, sys, shutil\n",
    "import time\n",
    "import gc\n",
    "from contextlib import contextmanager\n",
    "from pathlib import Path\n",
    "import random"
   ]
  },
  {
   "cell_type": "code",
   "execution_count": 4,
   "metadata": {},
   "outputs": [],
   "source": [
    "#file_path = \"../datasets/Train_Final_complete.csv\""
   ]
  },
  {
   "cell_type": "code",
   "execution_count": 5,
   "metadata": {},
   "outputs": [],
   "source": [
    "file_path = './../openbook/train_openbook.csv'"
   ]
  },
  {
   "cell_type": "code",
   "execution_count": 6,
   "metadata": {},
   "outputs": [],
   "source": [
    "f = './../datasets/arc_data/'"
   ]
  },
  {
   "cell_type": "code",
   "execution_count": 7,
   "metadata": {},
   "outputs": [],
   "source": [
    "data = pd.read_csv(file_path)"
   ]
  },
  {
   "cell_type": "code",
   "execution_count": 8,
   "metadata": {},
   "outputs": [
    {
     "data": {
      "text/html": [
       "<div>\n",
       "<style scoped>\n",
       "    .dataframe tbody tr th:only-of-type {\n",
       "        vertical-align: middle;\n",
       "    }\n",
       "\n",
       "    .dataframe tbody tr th {\n",
       "        vertical-align: top;\n",
       "    }\n",
       "\n",
       "    .dataframe thead th {\n",
       "        text-align: right;\n",
       "    }\n",
       "</style>\n",
       "<table border=\"1\" class=\"dataframe\">\n",
       "  <thead>\n",
       "    <tr style=\"text-align: right;\">\n",
       "      <th></th>\n",
       "      <th>Unnamed: 0</th>\n",
       "      <th>answerkey</th>\n",
       "      <th>hypA</th>\n",
       "      <th>hypB</th>\n",
       "      <th>hypC</th>\n",
       "      <th>hypD</th>\n",
       "      <th>preA</th>\n",
       "      <th>preB</th>\n",
       "      <th>preC</th>\n",
       "      <th>preD</th>\n",
       "    </tr>\n",
       "  </thead>\n",
       "  <tbody>\n",
       "    <tr>\n",
       "      <th>0</th>\n",
       "      <td>0</td>\n",
       "      <td>D</td>\n",
       "      <td>The sun is responsible for puppies learning ne...</td>\n",
       "      <td>The sun is responsible for children growing up...</td>\n",
       "      <td>The sun is responsible for flowers wilting in ...</td>\n",
       "      <td>The sun is responsible for plants sprouting, b...</td>\n",
       "      <td>koto was always learning new tricks.\\nleica is...</td>\n",
       "      <td>experts are now starting to tell us that child...</td>\n",
       "      <td>ray flowers are wilting.\\nsubject: a vase with...</td>\n",
       "      <td>show to the class plants on a dry potted soil ...</td>\n",
       "    </tr>\n",
       "    <tr>\n",
       "      <th>1</th>\n",
       "      <td>1</td>\n",
       "      <td>D</td>\n",
       "      <td>When standing miles away from Mount Rushmore t...</td>\n",
       "      <td>When standing miles away from Mount Rushmore t...</td>\n",
       "      <td>When standing miles away from Mount Rushmore t...</td>\n",
       "      <td>When standing miles away from Mount Rushmore t...</td>\n",
       "      <td>the location of crazy horse monument is about ...</td>\n",
       "      <td>the location of crazy horse monument is about ...</td>\n",
       "      <td>the location of crazy horse monument is about ...</td>\n",
       "      <td>the location of crazy horse monument is about ...</td>\n",
       "    </tr>\n",
       "    <tr>\n",
       "      <th>2</th>\n",
       "      <td>2</td>\n",
       "      <td>C</td>\n",
       "      <td>When food is reduced in the stomach the mind n...</td>\n",
       "      <td>When food is reduced in the stomach take a sec...</td>\n",
       "      <td>When food is reduced in the stomach nutrients ...</td>\n",
       "      <td>When food is reduced in the stomach reader's d...</td>\n",
       "      <td>the stomach of the calf needs time to develop ...</td>\n",
       "      <td>starfish will spit out their stomach and wrap ...</td>\n",
       "      <td>digestion-digestion of food and absorption of ...</td>\n",
       "      <td>one of her works was published on the cover of...</td>\n",
       "    </tr>\n",
       "    <tr>\n",
       "      <th>3</th>\n",
       "      <td>3</td>\n",
       "      <td>C</td>\n",
       "      <td>Stars are warm lights that float</td>\n",
       "      <td>Stars are made out of nitrate</td>\n",
       "      <td>Stars are great balls of gas burning billions ...</td>\n",
       "      <td>Stars are lights in the sky</td>\n",
       "      <td>some containers float in warm water.\\nsome pla...</td>\n",
       "      <td>it is made by reacting sodium carbonate with s...</td>\n",
       "      <td>there are stars that are billions of times far...</td>\n",
       "      <td>there, in private, the stars descended, tatted...</td>\n",
       "    </tr>\n",
       "    <tr>\n",
       "      <th>4</th>\n",
       "      <td>4</td>\n",
       "      <td>D</td>\n",
       "      <td>You can make a telescope with a straw</td>\n",
       "      <td>You can make a telescope with a Glass</td>\n",
       "      <td>You can make a telescope with a Candle</td>\n",
       "      <td>You can make a telescope with a mailing tube</td>\n",
       "      <td>bread wheat straw is used for thatching and we...</td>\n",
       "      <td>afield-glass; a telescope.\\nla2o2 is used to m...</td>\n",
       "      <td>make a candle\\ncandle holders also make great ...</td>\n",
       "      <td>all prints are shipped in a sturdy mailing tub...</td>\n",
       "    </tr>\n",
       "    <tr>\n",
       "      <th>...</th>\n",
       "      <td>...</td>\n",
       "      <td>...</td>\n",
       "      <td>...</td>\n",
       "      <td>...</td>\n",
       "      <td>...</td>\n",
       "      <td>...</td>\n",
       "      <td>...</td>\n",
       "      <td>...</td>\n",
       "      <td>...</td>\n",
       "      <td>...</td>\n",
       "    </tr>\n",
       "    <tr>\n",
       "      <th>4952</th>\n",
       "      <td>4952</td>\n",
       "      <td>A</td>\n",
       "      <td>A bulldozer alters the area of skyscrapers</td>\n",
       "      <td>A bulldozer alters the area of the stock market</td>\n",
       "      <td>A bulldozer alters the area of air</td>\n",
       "      <td>A bulldozer alters the area of water</td>\n",
       "      <td>the bocagrande ( big mouth ) is an area known ...</td>\n",
       "      <td>a stock index or stock market index is a measu...</td>\n",
       "      <td>most air resistance alters motion.\\nwater vapo...</td>\n",
       "      <td>it alters to siderotil by loss of water .\\nthi...</td>\n",
       "    </tr>\n",
       "    <tr>\n",
       "      <th>4953</th>\n",
       "      <td>4953</td>\n",
       "      <td>A</td>\n",
       "      <td>An organism that can survive without the help ...</td>\n",
       "      <td>An organism that can survive without the help ...</td>\n",
       "      <td>An organism that can survive without the help ...</td>\n",
       "      <td>An organism that can survive without the help ...</td>\n",
       "      <td>a single-cell organism can survive without the...</td>\n",
       "      <td>a single-cell organism can survive without the...</td>\n",
       "      <td>a single-cell organism can survive without the...</td>\n",
       "      <td>a single-cell organism can survive without the...</td>\n",
       "    </tr>\n",
       "    <tr>\n",
       "      <th>4954</th>\n",
       "      <td>4954</td>\n",
       "      <td>B</td>\n",
       "      <td>The nimbleness of this animal is a key adaptio...</td>\n",
       "      <td>The nimbleness of this animal is a key adaptio...</td>\n",
       "      <td>The nimbleness of this animal is a key adaptio...</td>\n",
       "      <td>The nimbleness of this animal is a key adaptio...</td>\n",
       "      <td>praying mantis predators\\npraying mantis - one...</td>\n",
       "      <td>this physiology is beneficial, because it dist...</td>\n",
       "      <td>this physiology is beneficial, because it dist...</td>\n",
       "      <td>this physiology is beneficial, because it dist...</td>\n",
       "    </tr>\n",
       "    <tr>\n",
       "      <th>4955</th>\n",
       "      <td>4955</td>\n",
       "      <td>A</td>\n",
       "      <td>Birds will have different kinds of beaks depen...</td>\n",
       "      <td>Birds will have different kinds of beaks depen...</td>\n",
       "      <td>Birds will have different kinds of beaks depen...</td>\n",
       "      <td>Birds will have different kinds of beaks depen...</td>\n",
       "      <td>birds' different-shaped beaks\\nbirds different...</td>\n",
       "      <td>birds' different-shaped beaks\\nbirds different...</td>\n",
       "      <td>birds' different-shaped beaks\\nbirds different...</td>\n",
       "      <td>birds' different-shaped beaks\\nbirds different...</td>\n",
       "    </tr>\n",
       "    <tr>\n",
       "      <th>4956</th>\n",
       "      <td>4956</td>\n",
       "      <td>A</td>\n",
       "      <td>Harriet wants to know the area of a rectangula...</td>\n",
       "      <td>Harriet wants to know the area of a rectangula...</td>\n",
       "      <td>Harriet wants to know the area of a rectangula...</td>\n",
       "      <td>Harriet wants to know the area of a rectangula...</td>\n",
       "      <td>if the paper is rectangular (not square), you'...</td>\n",
       "      <td>if the paper is rectangular (not square), you'...</td>\n",
       "      <td>if the paper is rectangular (not square), you'...</td>\n",
       "      <td>if the paper is rectangular (not square), you'...</td>\n",
       "    </tr>\n",
       "  </tbody>\n",
       "</table>\n",
       "<p>4957 rows × 10 columns</p>\n",
       "</div>"
      ],
      "text/plain": [
       "      Unnamed: 0 answerkey                                               hypA  \\\n",
       "0              0         D  The sun is responsible for puppies learning ne...   \n",
       "1              1         D  When standing miles away from Mount Rushmore t...   \n",
       "2              2         C  When food is reduced in the stomach the mind n...   \n",
       "3              3         C                   Stars are warm lights that float   \n",
       "4              4         D              You can make a telescope with a straw   \n",
       "...          ...       ...                                                ...   \n",
       "4952        4952         A         A bulldozer alters the area of skyscrapers   \n",
       "4953        4953         A  An organism that can survive without the help ...   \n",
       "4954        4954         B  The nimbleness of this animal is a key adaptio...   \n",
       "4955        4955         A  Birds will have different kinds of beaks depen...   \n",
       "4956        4956         A  Harriet wants to know the area of a rectangula...   \n",
       "\n",
       "                                                   hypB  \\\n",
       "0     The sun is responsible for children growing up...   \n",
       "1     When standing miles away from Mount Rushmore t...   \n",
       "2     When food is reduced in the stomach take a sec...   \n",
       "3                         Stars are made out of nitrate   \n",
       "4                 You can make a telescope with a Glass   \n",
       "...                                                 ...   \n",
       "4952    A bulldozer alters the area of the stock market   \n",
       "4953  An organism that can survive without the help ...   \n",
       "4954  The nimbleness of this animal is a key adaptio...   \n",
       "4955  Birds will have different kinds of beaks depen...   \n",
       "4956  Harriet wants to know the area of a rectangula...   \n",
       "\n",
       "                                                   hypC  \\\n",
       "0     The sun is responsible for flowers wilting in ...   \n",
       "1     When standing miles away from Mount Rushmore t...   \n",
       "2     When food is reduced in the stomach nutrients ...   \n",
       "3     Stars are great balls of gas burning billions ...   \n",
       "4                You can make a telescope with a Candle   \n",
       "...                                                 ...   \n",
       "4952                 A bulldozer alters the area of air   \n",
       "4953  An organism that can survive without the help ...   \n",
       "4954  The nimbleness of this animal is a key adaptio...   \n",
       "4955  Birds will have different kinds of beaks depen...   \n",
       "4956  Harriet wants to know the area of a rectangula...   \n",
       "\n",
       "                                                   hypD  \\\n",
       "0     The sun is responsible for plants sprouting, b...   \n",
       "1     When standing miles away from Mount Rushmore t...   \n",
       "2     When food is reduced in the stomach reader's d...   \n",
       "3                           Stars are lights in the sky   \n",
       "4          You can make a telescope with a mailing tube   \n",
       "...                                                 ...   \n",
       "4952               A bulldozer alters the area of water   \n",
       "4953  An organism that can survive without the help ...   \n",
       "4954  The nimbleness of this animal is a key adaptio...   \n",
       "4955  Birds will have different kinds of beaks depen...   \n",
       "4956  Harriet wants to know the area of a rectangula...   \n",
       "\n",
       "                                                   preA  \\\n",
       "0     koto was always learning new tricks.\\nleica is...   \n",
       "1     the location of crazy horse monument is about ...   \n",
       "2     the stomach of the calf needs time to develop ...   \n",
       "3     some containers float in warm water.\\nsome pla...   \n",
       "4     bread wheat straw is used for thatching and we...   \n",
       "...                                                 ...   \n",
       "4952  the bocagrande ( big mouth ) is an area known ...   \n",
       "4953  a single-cell organism can survive without the...   \n",
       "4954  praying mantis predators\\npraying mantis - one...   \n",
       "4955  birds' different-shaped beaks\\nbirds different...   \n",
       "4956  if the paper is rectangular (not square), you'...   \n",
       "\n",
       "                                                   preB  \\\n",
       "0     experts are now starting to tell us that child...   \n",
       "1     the location of crazy horse monument is about ...   \n",
       "2     starfish will spit out their stomach and wrap ...   \n",
       "3     it is made by reacting sodium carbonate with s...   \n",
       "4     afield-glass; a telescope.\\nla2o2 is used to m...   \n",
       "...                                                 ...   \n",
       "4952  a stock index or stock market index is a measu...   \n",
       "4953  a single-cell organism can survive without the...   \n",
       "4954  this physiology is beneficial, because it dist...   \n",
       "4955  birds' different-shaped beaks\\nbirds different...   \n",
       "4956  if the paper is rectangular (not square), you'...   \n",
       "\n",
       "                                                   preC  \\\n",
       "0     ray flowers are wilting.\\nsubject: a vase with...   \n",
       "1     the location of crazy horse monument is about ...   \n",
       "2     digestion-digestion of food and absorption of ...   \n",
       "3     there are stars that are billions of times far...   \n",
       "4     make a candle\\ncandle holders also make great ...   \n",
       "...                                                 ...   \n",
       "4952  most air resistance alters motion.\\nwater vapo...   \n",
       "4953  a single-cell organism can survive without the...   \n",
       "4954  this physiology is beneficial, because it dist...   \n",
       "4955  birds' different-shaped beaks\\nbirds different...   \n",
       "4956  if the paper is rectangular (not square), you'...   \n",
       "\n",
       "                                                   preD  \n",
       "0     show to the class plants on a dry potted soil ...  \n",
       "1     the location of crazy horse monument is about ...  \n",
       "2     one of her works was published on the cover of...  \n",
       "3     there, in private, the stars descended, tatted...  \n",
       "4     all prints are shipped in a sturdy mailing tub...  \n",
       "...                                                 ...  \n",
       "4952  it alters to siderotil by loss of water .\\nthi...  \n",
       "4953  a single-cell organism can survive without the...  \n",
       "4954  this physiology is beneficial, because it dist...  \n",
       "4955  birds' different-shaped beaks\\nbirds different...  \n",
       "4956  if the paper is rectangular (not square), you'...  \n",
       "\n",
       "[4957 rows x 10 columns]"
      ]
     },
     "execution_count": 8,
     "metadata": {},
     "output_type": "execute_result"
    }
   ],
   "source": [
    "data"
   ]
  },
  {
   "cell_type": "code",
   "execution_count": 9,
   "metadata": {},
   "outputs": [
    {
     "name": "stdout",
     "output_type": "stream",
     "text": [
      "<class 'pandas.core.frame.DataFrame'>\n",
      "RangeIndex: 4957 entries, 0 to 4956\n",
      "Data columns (total 10 columns):\n",
      " #   Column      Non-Null Count  Dtype \n",
      "---  ------      --------------  ----- \n",
      " 0   Unnamed: 0  4957 non-null   int64 \n",
      " 1   answerkey   4957 non-null   object\n",
      " 2   hypA        4957 non-null   object\n",
      " 3   hypB        4957 non-null   object\n",
      " 4   hypC        4957 non-null   object\n",
      " 5   hypD        4957 non-null   object\n",
      " 6   preA        4957 non-null   object\n",
      " 7   preB        4957 non-null   object\n",
      " 8   preC        4957 non-null   object\n",
      " 9   preD        4957 non-null   object\n",
      "dtypes: int64(1), object(9)\n",
      "memory usage: 387.4+ KB\n"
     ]
    }
   ],
   "source": [
    "data.info()"
   ]
  },
  {
   "cell_type": "code",
   "execution_count": 10,
   "metadata": {},
   "outputs": [],
   "source": [
    "class openbookExample(object):\n",
    "    \"\"\"A single training/test example for the ARC dataset.\"\"\"\n",
    "\n",
    "    def __init__(self,\n",
    "                 ob_id,\n",
    "                 context_sentences,\n",
    "                 hypothesis,\n",
    "                 question,\n",
    "                 ending_0,\n",
    "                 ending_1,\n",
    "                 ending_2,\n",
    "                 ending_3,\n",
    "                 label=None):\n",
    "        self.ob_id = ob_id\n",
    "        self.context_sentences = context_sentences\n",
    "        self.hypothesis = hypothesis\n",
    "        self.question = question\n",
    "        self.endings = [\n",
    "            ending_0,\n",
    "            ending_1,\n",
    "            ending_2,\n",
    "            ending_3,\n",
    "        ]\n",
    "        self.label = label"
   ]
  },
  {
   "cell_type": "code",
   "execution_count": 11,
   "metadata": {},
   "outputs": [],
   "source": [
    "class InputFeatures(object):\n",
    "    def __init__(self,\n",
    "                 example_id,\n",
    "                 choices_features,\n",
    "                 label\n",
    "\n",
    "    ):\n",
    "        self.example_id = example_id\n",
    "        self.choices_features = [\n",
    "            {\n",
    "                'gpre' : gpre,\n",
    "                'ghyp' : ghyp,\n",
    "                'input_ids': input_ids,\n",
    "                'input_mask': input_mask,\n",
    "                'segment_ids': segment_ids\n",
    "            }\n",
    "            for _, gpre, ghyp, input_ids, input_mask, segment_ids in choices_features\n",
    "        ]\n",
    "        self.label = label\n"
   ]
  },
  {
   "cell_type": "code",
   "execution_count": 12,
   "metadata": {},
   "outputs": [],
   "source": [
    "def read_ob_examples(input_file, is_training=True):\n",
    "    '''\n",
    "    :returns :\n",
    "    training dataset.\n",
    "    list of a single training/testing example for the ARC dataset.\n",
    "    A single ARC example is a object with following format :\n",
    "    (context sentence, hypothesis, option a, option b , ... , label)\n",
    "\n",
    "    '''\n",
    "    with open(input_file, 'r', encoding='utf-8') as f:\n",
    "        reader = csv.reader(f)\n",
    "        lines = []\n",
    "        for line in reader:\n",
    "            if sys.version_info[0] == 2:\n",
    "                line = list(unicode(cell, 'utf-8') for cell in line)\n",
    "            lines.append(line)\n",
    "\n",
    "    if is_training and lines[0][1] != 'answerkey':\n",
    "        raise ValueError(\n",
    "            \"For training, the input file must contain a label column.\"\n",
    "        )\n",
    "\n",
    "    examples = []\n",
    "    for line in lines[1:]:\n",
    "        context_sentences = [line[6], line[7], line[8],line[9]]\n",
    "        hypothesis = [line[2], line[3], line[4], line[5]]\n",
    "        label = ord(line[1]) - ord('A') if is_training else None\n",
    "\n",
    "        '''examples.append(\n",
    "                                    ArcExample(arc_id=line[-2], context_sentences=context_sentences, hypothesis = hypothesis, question=line[-1], ending_0=line[1],\n",
    "                                               ending_1=line[2], ending_2=line[3], ending_3=line[4], label=label))\n",
    "                        '''\n",
    "        examples.append(\n",
    "                                    openbookExample(ob_id=line[0], context_sentences=context_sentences, hypothesis = hypothesis, question=line[-3], ending_0=line[1],\n",
    "                                               ending_1=line[2], ending_2=line[3], ending_3=line[4], label=label))\n",
    "    return examples"
   ]
  },
  {
   "cell_type": "code",
   "execution_count": 13,
   "metadata": {},
   "outputs": [],
   "source": [
    "examples = read_ob_examples(file_path)"
   ]
  },
  {
   "cell_type": "code",
   "execution_count": 14,
   "metadata": {},
   "outputs": [
    {
     "data": {
      "text/plain": [
       "4957"
      ]
     },
     "execution_count": 14,
     "metadata": {},
     "output_type": "execute_result"
    }
   ],
   "source": [
    "len(examples)"
   ]
  },
  {
   "cell_type": "code",
   "execution_count": 15,
   "metadata": {},
   "outputs": [
    {
     "data": {
      "text/plain": [
       "'koto was always learning new tricks.\\nleica is adept at learning new tricks and loves people.\\nunlike old dogs, old ferrets love learning new tricks.\\nthey respond well to parrot training techniques and are willing students for learning new tricks.\\na cockatoo is capable of learning new tricks and skills until the end of his life.\\ncockatiels are more adept at learning beak tricks than claw tricks.\\nthe artisans who are bringing new telescope mirrors into the world are learning new tricks nearly every day.\\n[13] sun conures are capable of learning a great deal of tricks and can even perform in front of a live audience.\\nlearning a few tricks on finding an object\\'s volume.\\nvery alert and learning tricks so quickly!\\nbut, a responsible breeder will guarantee their puppies for life.\\nresponsible breeders make sure their puppies\\' new families know they can turn to them with any questions or problems that arise throughout the puppies\\' lives.\\nand new tricks .\\nthere are no special tricks to learning how to grow ostrich ferns.\\nlosing a claw and learning tricks are examples of acquired traits.\\none on one time with your pet cockatoo should be spent playing games, going new places and learning new tricks.\\nit was hypothesized that a new element on the sun was responsible for this mysterious yellow emission.\\nnew puppies!!\\nthey excel at learning tricks, including agility, retrieving, and competitive obedience.\\nlearn new tricks\\nreinforcement plays a role in learning but is not entirely responsible for learning.\\nthey are also extremely social and intelligent birds, capable of learning tricks, mimicking sounds, and learning a decent vocabulary.\\npuppies begin learning it from each other and from their mother.\\nas an executive at the bbc , neame was responsible for bringing a new wave of popular dramas to the screen including spooks ( mi5 ) , state of play , hustle and new tricks .\\nthe area where these new neurons are produced is the hippocampus, a brain area responsible for learning and memory.\\npreservation of mammalian cells – learning nature’s tricks.\\nyour conure will enjoy learning new tricks and words when you use positive reinforcement (treats, verbal praise) to train it.\\n\"new puppies in the kennel\"\\nnew born puppies\\nnew beagle puppies-\\nold dog - new tricks.\\nthe sad truth is there are just not enough responsible homes in virginia for these puppies.\\na responsible breeder makes sure that their puppies go to good homes.\\nat this age puppies are just learning to interact with each other and begin to play.\\nsome puppies may need a little help in learning how to latch on.\\nnew puppies due in december.\\nswimmer puppies - a new solution\\nconstant supply of new puppies\\nmost dogs have new tricks.\\ntraining a boxer dog new tricks\\n* new tricks at wall to wall , producers .\\nnew tricks ( 2009 ) alen smith\\nthankfully, he can usually be convinced to move on to other activities, like agility , playing fetch with his favorite toy or learning new tricks .\\ni\\'m picking up where i left off early in my postgraduate education, learning new tools and tricks for the software environment r .\\nthe reason i made this map is similar to qrylz glades, it is a learning experience, just a way for me to get better at mapping and learn new tricks...\\na lot of cockatoos love learning new tricks just so long as the trainer uses lots of positive reinforcement and keeps the sessions light and upbeat.\\ni have studied so many languages that i have learnt a lot of tricks and things that could be useful in learning a new programming language .\\neven if several years have passed, responsible breeders care about the puppies they sold and will want to help you find a new home.\\nresponsible breeders assist in re-homing or take in puppies should the need arise.\\nsome new puppies sleep in crates.'"
      ]
     },
     "execution_count": 15,
     "metadata": {},
     "output_type": "execute_result"
    }
   ],
   "source": [
    "examples[0].context_sentences[0]"
   ]
  },
  {
   "cell_type": "code",
   "execution_count": 16,
   "metadata": {},
   "outputs": [],
   "source": [
    "d = examples[0].context_sentences[0]"
   ]
  },
  {
   "cell_type": "code",
   "execution_count": 17,
   "metadata": {},
   "outputs": [],
   "source": [
    "d = re.sub('\\n', '', d)"
   ]
  },
  {
   "cell_type": "code",
   "execution_count": 18,
   "metadata": {},
   "outputs": [
    {
     "data": {
      "text/plain": [
       "'koto was always learning new tricks.leica is adept at learning new tricks and loves people.unlike old dogs, old ferrets love learning new tricks.they respond well to parrot training techniques and are willing students for learning new tricks.a cockatoo is capable of learning new tricks and skills until the end of his life.cockatiels are more adept at learning beak tricks than claw tricks.the artisans who are bringing new telescope mirrors into the world are learning new tricks nearly every day.[13] sun conures are capable of learning a great deal of tricks and can even perform in front of a live audience.learning a few tricks on finding an object\\'s volume.very alert and learning tricks so quickly!but, a responsible breeder will guarantee their puppies for life.responsible breeders make sure their puppies\\' new families know they can turn to them with any questions or problems that arise throughout the puppies\\' lives.and new tricks .there are no special tricks to learning how to grow ostrich ferns.losing a claw and learning tricks are examples of acquired traits.one on one time with your pet cockatoo should be spent playing games, going new places and learning new tricks.it was hypothesized that a new element on the sun was responsible for this mysterious yellow emission.new puppies!!they excel at learning tricks, including agility, retrieving, and competitive obedience.learn new tricksreinforcement plays a role in learning but is not entirely responsible for learning.they are also extremely social and intelligent birds, capable of learning tricks, mimicking sounds, and learning a decent vocabulary.puppies begin learning it from each other and from their mother.as an executive at the bbc , neame was responsible for bringing a new wave of popular dramas to the screen including spooks ( mi5 ) , state of play , hustle and new tricks .the area where these new neurons are produced is the hippocampus, a brain area responsible for learning and memory.preservation of mammalian cells – learning nature’s tricks.your conure will enjoy learning new tricks and words when you use positive reinforcement (treats, verbal praise) to train it.\"new puppies in the kennel\"new born puppiesnew beagle puppies-old dog - new tricks.the sad truth is there are just not enough responsible homes in virginia for these puppies.a responsible breeder makes sure that their puppies go to good homes.at this age puppies are just learning to interact with each other and begin to play.some puppies may need a little help in learning how to latch on.new puppies due in december.swimmer puppies - a new solutionconstant supply of new puppiesmost dogs have new tricks.training a boxer dog new tricks* new tricks at wall to wall , producers .new tricks ( 2009 ) alen smiththankfully, he can usually be convinced to move on to other activities, like agility , playing fetch with his favorite toy or learning new tricks .i\\'m picking up where i left off early in my postgraduate education, learning new tools and tricks for the software environment r .the reason i made this map is similar to qrylz glades, it is a learning experience, just a way for me to get better at mapping and learn new tricks...a lot of cockatoos love learning new tricks just so long as the trainer uses lots of positive reinforcement and keeps the sessions light and upbeat.i have studied so many languages that i have learnt a lot of tricks and things that could be useful in learning a new programming language .even if several years have passed, responsible breeders care about the puppies they sold and will want to help you find a new home.responsible breeders assist in re-homing or take in puppies should the need arise.some new puppies sleep in crates.'"
      ]
     },
     "execution_count": 18,
     "metadata": {},
     "output_type": "execute_result"
    }
   ],
   "source": [
    "d"
   ]
  },
  {
   "cell_type": "code",
   "execution_count": 19,
   "metadata": {},
   "outputs": [
    {
     "data": {
      "text/plain": [
       "3731"
      ]
     },
     "execution_count": 19,
     "metadata": {},
     "output_type": "execute_result"
    }
   ],
   "source": [
    "len(d)"
   ]
  },
  {
   "cell_type": "code",
   "execution_count": 20,
   "metadata": {},
   "outputs": [],
   "source": [
    "info = (d[:512] + '..') if len(d) > 512 else d"
   ]
  },
  {
   "cell_type": "code",
   "execution_count": 21,
   "metadata": {},
   "outputs": [
    {
     "data": {
      "text/plain": [
       "'koto was always learning new tricks.leica is adept at learning new tricks and loves people.unlike old dogs, old ferrets love learning new tricks.they respond well to parrot training techniques and are willing students for learning new tricks.a cockatoo is capable of learning new tricks and skills until the end of his life.cockatiels are more adept at learning beak tricks than claw tricks.the artisans who are bringing new telescope mirrors into the world are learning new tricks nearly every day.[13] sun conu..'"
      ]
     },
     "execution_count": 21,
     "metadata": {},
     "output_type": "execute_result"
    }
   ],
   "source": [
    "info"
   ]
  },
  {
   "cell_type": "code",
   "execution_count": 22,
   "metadata": {},
   "outputs": [],
   "source": [
    "def proces_ob(data):\n",
    "    nlp = spacy.load('en_core_web_sm',disable=['ner','parser','textcat'])\n",
    "    nlp.add_pipe(nlp.create_pipe('sentencizer'))\n",
    "    output_path = \"ob_concepts\"+\".%d.mcp\"\n",
    "    concepts = []\n",
    "    for i,example in tqdm(enumerate(data)):\n",
    "        x = []\n",
    "        for j in tqdm(range(4)):\n",
    "            sents = example.context_sentences[j]\n",
    "            sent = re.sub('\\n', '', sents)[:1024]\n",
    "            #sent = (d[:512] + '..') if len(d) > 512 else d\n",
    "            res = match_mentioned_concepts_context(nlp,context_sents=sent,\n",
    "                                                   hypo_sents=example.hypothesis[j],\n",
    "                                                   answer=example.endings[j])\n",
    "            x.append(res)\n",
    "        concepts.append(x)\n",
    "        \n",
    "    return concepts\n",
    "    #with open(output_path, 'w') as fo:\n",
    "        #json.dump(concepts, fo)\n",
    "        "
   ]
  },
  {
   "cell_type": "code",
   "execution_count": 23,
   "metadata": {},
   "outputs": [
    {
     "data": {
      "text/plain": [
       "<__main__.openbookExample at 0x7f15f0a934d0>"
      ]
     },
     "execution_count": 23,
     "metadata": {},
     "output_type": "execute_result"
    }
   ],
   "source": [
    "examples[0]"
   ]
  },
  {
   "cell_type": "code",
   "execution_count": 24,
   "metadata": {},
   "outputs": [
    {
     "data": {
      "application/vnd.jupyter.widget-view+json": {
       "model_id": "dbdc00302b6e4f34bf4f0718e61d47f7",
       "version_major": 2,
       "version_minor": 0
      },
      "text/plain": [
       "HBox(children=(FloatProgress(value=1.0, bar_style='info', max=1.0), HTML(value='')))"
      ]
     },
     "metadata": {},
     "output_type": "display_data"
    },
    {
     "data": {
      "application/vnd.jupyter.widget-view+json": {
       "model_id": "4ae9618d53de42aebfbb8b0f08611b83",
       "version_major": 2,
       "version_minor": 0
      },
      "text/plain": [
       "HBox(children=(FloatProgress(value=0.0, max=4.0), HTML(value='')))"
      ]
     },
     "metadata": {},
     "output_type": "display_data"
    },
    {
     "name": "stdout",
     "output_type": "stream",
     "text": [
      "\n"
     ]
    },
    {
     "data": {
      "application/vnd.jupyter.widget-view+json": {
       "model_id": "89afd47ab1ef4bf4b4fb028a00a1dbd9",
       "version_major": 2,
       "version_minor": 0
      },
      "text/plain": [
       "HBox(children=(FloatProgress(value=0.0, max=4.0), HTML(value='')))"
      ]
     },
     "metadata": {},
     "output_type": "display_data"
    },
    {
     "name": "stdout",
     "output_type": "stream",
     "text": [
      "\n",
      "\n"
     ]
    }
   ],
   "source": [
    "concepts = proces_ob(examples[4551:4553])"
   ]
  },
  {
   "cell_type": "code",
   "execution_count": 25,
   "metadata": {},
   "outputs": [
    {
     "data": {
      "text/plain": [
       "37"
      ]
     },
     "execution_count": 25,
     "metadata": {},
     "output_type": "execute_result"
    }
   ],
   "source": [
    "len(concepts[0][0][0]['premise'])"
   ]
  },
  {
   "cell_type": "code",
   "execution_count": 26,
   "metadata": {},
   "outputs": [
    {
     "data": {
      "text/plain": [
       "[[{'sent': ' ',\n",
       "   'option': 'A',\n",
       "   'premise': ['whethere',\n",
       "    'heats',\n",
       "    'solid',\n",
       "    'change',\n",
       "    'phase',\n",
       "    'refer_to',\n",
       "    'difference',\n",
       "    'change_into',\n",
       "    'freezed',\n",
       "    'melt',\n",
       "    'above_us',\n",
       "    'liquid_state',\n",
       "    'turn_to',\n",
       "    'whether',\n",
       "    'liquid_or',\n",
       "    'heat',\n",
       "    'froze',\n",
       "    'point',\n",
       "    'mattering',\n",
       "    'state',\n",
       "    'liquids',\n",
       "    'melted',\n",
       "    'imply',\n",
       "    'incidentally',\n",
       "    'freeze',\n",
       "    'turn',\n",
       "    'point_of',\n",
       "    'eventually',\n",
       "    'substance',\n",
       "    'matter',\n",
       "    'phase_change',\n",
       "    'and_turn',\n",
       "    'orientation',\n",
       "    'refer',\n",
       "    'transform',\n",
       "    'liquid',\n",
       "    'transforming'],\n",
       "   'hypothesis': ['heats',\n",
       "    'solid',\n",
       "    'freezed',\n",
       "    'melt',\n",
       "    'above_us',\n",
       "    'cool',\n",
       "    'heat',\n",
       "    'froze',\n",
       "    'point',\n",
       "    'cools',\n",
       "    'accurate',\n",
       "    'liquids',\n",
       "    'liquid',\n",
       "    'melted',\n",
       "    'being_cool',\n",
       "    'freeze'],\n",
       "   'ans': ['a']}],\n",
       " [{'sent': ' ',\n",
       "   'option': 'Which is most accurate? melting is when solids are heated above their melting point; freezing is when solids are cooled from liquid to solid',\n",
       "   'premise': ['low',\n",
       "    'cause',\n",
       "    'introduce',\n",
       "    'crystalline',\n",
       "    'change',\n",
       "    'phase',\n",
       "    'change_into',\n",
       "    'liquid_or',\n",
       "    'glass',\n",
       "    'glassed',\n",
       "    'glass_do',\n",
       "    'preferred',\n",
       "    'mattering',\n",
       "    'state',\n",
       "    'rapid',\n",
       "    'tend',\n",
       "    'tm',\n",
       "    'amorphous',\n",
       "    'imply',\n",
       "    'keep',\n",
       "    'keepest',\n",
       "    'turn',\n",
       "    'oxide',\n",
       "    'gas',\n",
       "    'eventually',\n",
       "    'temperature',\n",
       "    'fusion',\n",
       "    'matter',\n",
       "    'entropy',\n",
       "    'possesse',\n",
       "    'phase_change',\n",
       "    'sulfur',\n",
       "    'possess',\n",
       "    'and_turn',\n",
       "    'viscous',\n",
       "    'tank',\n",
       "    'use',\n",
       "    'method',\n",
       "    'range',\n",
       "    'widely',\n",
       "    'somewhat',\n",
       "    'contrast',\n",
       "    'gassing'],\n",
       "   'hypothesis': ['cool',\n",
       "    'heat',\n",
       "    'when',\n",
       "    'point',\n",
       "    'solid',\n",
       "    'accurate',\n",
       "    'to',\n",
       "    'liquid',\n",
       "    'most',\n",
       "    'be',\n",
       "    'melting',\n",
       "    'from',\n",
       "    'above',\n",
       "    'melt',\n",
       "    'which'],\n",
       "   'ans': ['cool',\n",
       "    'heat',\n",
       "    'froze',\n",
       "    'heats',\n",
       "    'point',\n",
       "    'solid',\n",
       "    'cools',\n",
       "    'accurate',\n",
       "    'liquids',\n",
       "    'liquid',\n",
       "    'melted',\n",
       "    'being_cool',\n",
       "    'freezed',\n",
       "    'melt',\n",
       "    'above_us',\n",
       "    'freeze']}],\n",
       " [{'sent': ' ',\n",
       "   'option': 'Which is most accurate? melting is when solids are heated above their melting point; melting is when solids are cooled from liquid to solid',\n",
       "   'premise': ['whethere',\n",
       "    'change',\n",
       "    'phase',\n",
       "    'difference',\n",
       "    'change_into',\n",
       "    'freezed',\n",
       "    'whether',\n",
       "    'froze',\n",
       "    'mattering',\n",
       "    'state',\n",
       "    'imply',\n",
       "    'incidentally',\n",
       "    'freeze',\n",
       "    'turn',\n",
       "    'point_of',\n",
       "    'eventually',\n",
       "    'substance',\n",
       "    'matter',\n",
       "    'phase_change',\n",
       "    'and_turn',\n",
       "    'orientation',\n",
       "    'refer',\n",
       "    'transform',\n",
       "    'transforming'],\n",
       "   'hypothesis': ['froze', 'freezed', 'freeze'],\n",
       "   'ans': ['cool',\n",
       "    'heat',\n",
       "    'heats',\n",
       "    'point',\n",
       "    'solid',\n",
       "    'cools',\n",
       "    'accurate',\n",
       "    'liquids',\n",
       "    'liquid',\n",
       "    'melted',\n",
       "    'being_cool',\n",
       "    'melt',\n",
       "    'above_us']}],\n",
       " [{'sent': ' ',\n",
       "   'option': 'Which is most accurate? freezing is when solids are heated above their melting point; melting is when solids are cooled from liquid to solid',\n",
       "   'premise': ['whethere',\n",
       "    'thawest',\n",
       "    'thaw',\n",
       "    'change',\n",
       "    'phase',\n",
       "    'difference',\n",
       "    'become',\n",
       "    'property_of',\n",
       "    'one_of',\n",
       "    'whether',\n",
       "    'resistest',\n",
       "    'mattering',\n",
       "    'process',\n",
       "    'cyclic',\n",
       "    'incidentally',\n",
       "    'form',\n",
       "    'point_of',\n",
       "    'temperature',\n",
       "    'substance',\n",
       "    'property',\n",
       "    'matter',\n",
       "    'phase_change',\n",
       "    'orientation',\n",
       "    'refer',\n",
       "    'transform',\n",
       "    'enough',\n",
       "    'resistance',\n",
       "    'resist',\n",
       "    'transforming',\n",
       "    'temperature_at'],\n",
       "   'hypothesis': ['cool',\n",
       "    'heat',\n",
       "    'point',\n",
       "    'solid',\n",
       "    'which',\n",
       "    'accurate',\n",
       "    'to',\n",
       "    'liquid',\n",
       "    'most',\n",
       "    'be',\n",
       "    'melting',\n",
       "    'from',\n",
       "    'above',\n",
       "    'when',\n",
       "    'freeze'],\n",
       "   'ans': ['cool',\n",
       "    'froze',\n",
       "    'heat',\n",
       "    'heats',\n",
       "    'point',\n",
       "    'solid',\n",
       "    'cools',\n",
       "    'accurate',\n",
       "    'liquids',\n",
       "    'liquid',\n",
       "    'melted',\n",
       "    'being_cool',\n",
       "    'freezed',\n",
       "    'melt',\n",
       "    'above_us',\n",
       "    'freeze']}]]"
      ]
     },
     "execution_count": 26,
     "metadata": {},
     "output_type": "execute_result"
    }
   ],
   "source": [
    "concepts[0]"
   ]
  },
  {
   "cell_type": "code",
   "execution_count": 27,
   "metadata": {},
   "outputs": [],
   "source": [
    "def process(filename, batch_id=-1):\n",
    "\n",
    "\n",
    "    nlp = spacy.load('en_core_web_sm', disable=['ner', 'parser', 'textcat'])\n",
    "    nlp.add_pipe(nlp.create_pipe('sentencizer'))\n",
    "\n",
    "    sents = []\n",
    "    answers = []\n",
    "    with open(filename, 'r') as f:\n",
    "        lines = f.read().split(\"\\n\")\n",
    "\n",
    "\n",
    "    for line in tqdm(lines, desc=\"loading file\"):\n",
    "        if line == \"\":\n",
    "            continue\n",
    "        j = json.loads(line)\n",
    "        for statement in j[\"statements\"]:\n",
    "            sents.append(statement[\"statement\"])\n",
    "        for answer in j[\"question\"][\"choices\"]:\n",
    "            answers.append(answer[\"text\"])\n",
    "\n",
    "\n",
    "    if batch_id >= 0:\n",
    "        output_path = filename + \".%d.mcp\" % batch_id\n",
    "        batch_sents = list(np.array_split(sents, 100)[batch_id])\n",
    "        batch_answers = list(np.array_split(answers, 100)[batch_id])\n",
    "    else:\n",
    "        output_path = filename + \".mcp\"\n",
    "        batch_sents = sents\n",
    "        batch_answers = answers\n",
    "\n",
    "    res = match_mentioned_concepts(nlp, sents=batch_sents, answers=batch_answers, batch_id=batch_id)\n",
    "    return res\n",
    "    #with open(output_path, 'w') as fo:\n",
    "        #json.dump(res, fo)"
   ]
  },
  {
   "cell_type": "code",
   "execution_count": 28,
   "metadata": {},
   "outputs": [],
   "source": [
    "nlp = spacy.load('en_core_web_sm', disable=['ner', 'parser', 'textcat'])\n",
    "nlp.add_pipe(nlp.create_pipe('sentencizer'))"
   ]
  },
  {
   "cell_type": "code",
   "execution_count": 29,
   "metadata": {},
   "outputs": [],
   "source": [
    "sents = []\n",
    "answers = []\n",
    "with open(\"../datasets/csqa_new/dev_rand_split.jsonl.statements\", 'r') as f:\n",
    "    lines = f.read().split(\"\\n\")"
   ]
  },
  {
   "cell_type": "code",
   "execution_count": 30,
   "metadata": {},
   "outputs": [
    {
     "data": {
      "text/plain": [
       "'{\"answerKey\": \"A\", \"id\": \"1afa02df02c908a558b4036e80242fac\", \"question\": {\"question_concept\": \"revolving door\", \"choices\": [{\"label\": \"A\", \"text\": \"bank\"}, {\"label\": \"B\", \"text\": \"library\"}, {\"label\": \"C\", \"text\": \"department store\"}, {\"label\": \"D\", \"text\": \"mall\"}, {\"label\": \"E\", \"text\": \"new york\"}], \"stem\": \"A revolving door is convenient for two direction travel, but it also serves as a security measure at a what?\"}, \"statements\": [{\"label\": true, \"statement\": \"A revolving door is convenient for two direction travel, but it also serves as a security measure at a bank.\"}, {\"label\": false, \"statement\": \"A revolving door is convenient for two direction travel, but it also serves as a security measure at a library.\"}, {\"label\": false, \"statement\": \"A revolving door is convenient for two direction travel, but it also serves as a security measure at a department store.\"}, {\"label\": false, \"statement\": \"A revolving door is convenient for two direction travel, but it also serves as a security measure at a mall.\"}, {\"label\": false, \"statement\": \"A revolving door is convenient for two direction travel, but it also serves as a security measure at a new york.\"}]}'"
      ]
     },
     "execution_count": 30,
     "metadata": {},
     "output_type": "execute_result"
    }
   ],
   "source": [
    "lines[0]"
   ]
  },
  {
   "cell_type": "code",
   "execution_count": 31,
   "metadata": {},
   "outputs": [
    {
     "data": {
      "text/plain": [
       "1222"
      ]
     },
     "execution_count": 31,
     "metadata": {},
     "output_type": "execute_result"
    }
   ],
   "source": [
    "len(lines)"
   ]
  },
  {
   "cell_type": "code",
   "execution_count": 32,
   "metadata": {},
   "outputs": [],
   "source": [
    "l = lines[:10]"
   ]
  },
  {
   "cell_type": "code",
   "execution_count": 33,
   "metadata": {},
   "outputs": [
    {
     "data": {
      "text/plain": [
       "10"
      ]
     },
     "execution_count": 33,
     "metadata": {},
     "output_type": "execute_result"
    }
   ],
   "source": [
    "len(l)"
   ]
  },
  {
   "cell_type": "code",
   "execution_count": 34,
   "metadata": {},
   "outputs": [
    {
     "data": {
      "application/vnd.jupyter.widget-view+json": {
       "model_id": "b2afc8b7c8144202af9757e6cabd819f",
       "version_major": 2,
       "version_minor": 0
      },
      "text/plain": [
       "HBox(children=(FloatProgress(value=0.0, description='loading file', max=10.0, style=ProgressStyle(description_…"
      ]
     },
     "metadata": {},
     "output_type": "display_data"
    },
    {
     "name": "stdout",
     "output_type": "stream",
     "text": [
      "\n"
     ]
    }
   ],
   "source": [
    "for line in tqdm(l, desc=\"loading file\"):\n",
    "    if line == \"\":\n",
    "        continue\n",
    "    j = json.loads(line)\n",
    "    for statement in j[\"statements\"]:\n",
    "        sents.append(statement[\"statement\"])\n",
    "    for answer in j[\"question\"][\"choices\"]:\n",
    "        answers.append(answer[\"text\"])"
   ]
  },
  {
   "cell_type": "code",
   "execution_count": 35,
   "metadata": {},
   "outputs": [
    {
     "data": {
      "text/plain": [
       "'A revolving door is convenient for two direction travel, but it also serves as a security measure at a bank.'"
      ]
     },
     "execution_count": 35,
     "metadata": {},
     "output_type": "execute_result"
    }
   ],
   "source": [
    "sents[0]"
   ]
  },
  {
   "cell_type": "code",
   "execution_count": 36,
   "metadata": {},
   "outputs": [
    {
     "data": {
      "text/plain": [
       "'bank'"
      ]
     },
     "execution_count": 36,
     "metadata": {},
     "output_type": "execute_result"
    }
   ],
   "source": [
    "answers[0]"
   ]
  },
  {
   "cell_type": "code",
   "execution_count": 37,
   "metadata": {},
   "outputs": [],
   "source": [
    "with open(\"../datasets/csqa_new/arc_challenge.json\", 'r') as f:\n",
    "    arc_lines = f.read().split(\"\\n\")"
   ]
  },
  {
   "cell_type": "code",
   "execution_count": 38,
   "metadata": {},
   "outputs": [
    {
     "data": {
      "text/plain": [
       "15539"
      ]
     },
     "execution_count": 38,
     "metadata": {},
     "output_type": "execute_result"
    }
   ],
   "source": [
    "len(arc_lines)"
   ]
  },
  {
   "cell_type": "code",
   "execution_count": 39,
   "metadata": {},
   "outputs": [
    {
     "data": {
      "text/plain": [
       "['{',\n",
       " ' \"ARC-Challenge-Train.jsonl-Mercury_SC_415702\": [',\n",
       " '  \"(in this activity, let the pupils understand that in rubbing their hands together, heat is produced and the heat produced makes their hands warm.)\\\\nwhen the skin surface is exposed to heat, warm blood flushes into the ______________ and heat radiates from the skin surface.\\\\nglabrous skin covers the surface of the palms of the hands, soles of the feet, and flexor surfaces of the digits.\\\\nmajor heat loss is evaporation of h2o on skin of infant - put in dry, warm blankets.\\\\nskin: very dry, fair, warm\\\\nsevere rash with skin swelling (including on the palms of the hands and soles of the feet)\\\\nwhen the body becomes too warm, blood vessels in the skin dilate, allowing heat to escape through the surface of the skin.\\\\nalopecia; dry/itchy skin w/ desquamation of palms and soles\\\\nridges warm up and dry out quickly.\\\\nthe mechanical energy of rubbing your hands together is converted to thermal (heat) energy.\\\\nthis is because in warm-blooded animals, the heat they lose is proportional to the surface area of their bodies, while the heat they produce is proportional to their mass.\\\\ni.e., rubbing the skin with pumice and applying heat sound very risky.\\\\nconvection currents of air remove heat from the surface of dry skin as the air passes over it.\\\\nthese glands exist in humans throughout the skin except in the palms of the hands and soles of the feet.\\\\nthe skin of the palms of the hands and the soles of the feet may become thick and break open .\\\\nthe condition may occur anywhere on the skin except the palms of the hands and soles of the feet .\\\\nhe was warm and dry, but his skin was pale.\\\\nhand warmers are small ( mostly disposable ) packets which are held in the hand and produce heat on demand to warm cold hands .\\\\nfriction between two surfaces can warm of both of them (e.g., rubbing hands together).\\\\n\\\\u25cf\\\\u00a0\\\\u00a0\\\\u00a0\\\\u00a0 rubbing both the hands together to create heat\\\\nthe wrinkles on the skin are designed to produce more surface area through which heat can be dissipated.\\\\ncarry, clacking, rubbing on surface, rubbing surface\\\\nas the warm blood from the arteries flows past the vein, they transfer heat to the veins\\\\u00a0before the veins lose their heat to the surface of the skin.\\\\nrubbing his hands.\\\\nwhich epidermal layer is present on the palms of your hands but not on the skin from your arm?\\\\nas a couple of taller kids hogged the ball, he lagged behind them, quickly rubbing some heat along his arms with his hands before they turned around.\\\\nmotion produces heat when we rub the palms of our hands briskly together.\\\\nskin is warm and dry and bp is 70/40 which suggests warm shock.\\\\nspread the cones out on a dry, warm surface.\\\\nthe skin of the mantis snatched itself quickly out of the children\\'s hands.\\\\nif you rub your hands together really quickly, they will be warm too.\\\\nthis is often accompanied by a warm feeling of the skin and a dry mouth.\\\\ndehydration;indicated by dry,warm skin, and sunken eyes\\\\na rock under a heat lamp can be dry and warm.\\\\nit does this by rubbing the front of its head on a rough surface until the skin splits.\\\\na friction burn is a form of abrasion caused by the friction of skin rubbing against a surface .\\\\nfurnaces typically create dry heat which results in a warm, dry environment.\\\\nthe palms of the hands are naked.\\\\nsmaller warm-blooded animals lose heat more quickly.\\\\nsmaller warm-blooded animals loose heat more quickly.\\\\nrubbing your hands together!\\\\nadults produce the sounds by rubbing the upper surface of the abdomen against the hind wings .\\\\nwash your hands with soap and warm water, and dry them well.\\\\nthis layer is only found in the thickened skin of the soles of the feet, the palms of the hands, and the lips at the entrance to the mouth.\\\\nthe sebaceous glands are found throughout all areas of the skin except the palms of the hands and soles of the feet .\\\\nthe morning sponge-bath, followed by a little brisk rubbing with the palms of the hands, is a luxury that should be enjoyed by all, save the extremely feeble or delicate.\\\\nof galen, dry rubbing.\\\\nthis adaptation keeps the skin warm and dry both underwater and in the winter.\\\\nfor example: a rock under a heat lamp can be dry and warm.\\\\nthe procedure involves rubbing warm oils or gels on a person\\'s skin with a coin or other flat metal object.\",',\n",
       " '  \"(in this activity, let the pupils understand that in rubbing their hands together, heat is produced and the heat produced makes their hands warm.)\\\\nwhen the skin surface is exposed to heat, warm blood flushes into the ______________ and heat radiates from the skin surface.\\\\nglabrous skin covers the surface of the palms of the hands, soles of the feet, and flexor surfaces of the digits.\\\\nwet hands with warm running water\\\\nsevere rash with skin swelling (including on the palms of the hands and soles of the feet)\\\\nwhen the body becomes too warm, blood vessels in the skin dilate, allowing heat to escape through the surface of the skin.\\\\nthe mechanical energy of rubbing your hands together is converted to thermal (heat) energy.\\\\nthis is because in warm-blooded animals, the heat they lose is proportional to the surface area of their bodies, while the heat they produce is proportional to their mass.\\\\ni.e., rubbing the skin with pumice and applying heat sound very risky.\\\\nthese glands exist in humans throughout the skin except in the palms of the hands and soles of the feet.\\\\nthe skin of the palms of the hands and the soles of the feet may become thick and break open .\\\\nthe condition may occur anywhere on the skin except the palms of the hands and soles of the feet .\\\\nhand warmers are small ( mostly disposable ) packets which are held in the hand and produce heat on demand to warm cold hands .\\\\nfriction between two surfaces can warm of both of them (e.g., rubbing hands together).\\\\n\\\\u25cf\\\\u00a0\\\\u00a0\\\\u00a0\\\\u00a0 rubbing both the hands together to create heat\\\\nthe wrinkles on the skin are designed to produce more surface area through which heat can be dissipated.\\\\ncarry, clacking, rubbing on surface, rubbing surface\\\\nas the warm blood from the arteries flows past the vein, they transfer heat to the veins\\\\u00a0before the veins lose their heat to the surface of the skin.\\\\nrubbing his hands.\\\\nwhich epidermal layer is present on the palms of your hands but not on the skin from your arm?\\\\nas a couple of taller kids hogged the ball, he lagged behind them, quickly rubbing some heat along his arms with his hands before they turned around.\\\\nmotion produces heat when we rub the palms of our hands briskly together.\\\\nthe skin of the mantis snatched itself quickly out of the children\\'s hands.\\\\nif you rub your hands together really quickly, they will be warm too.\\\\nit does this by rubbing the front of its head on a rough surface until the skin splits.\\\\na friction burn is a form of abrasion caused by the friction of skin rubbing against a surface .\\\\nthe palms of the hands are naked.\\\\nsmaller warm-blooded animals lose heat more quickly.\\\\nsmaller warm-blooded animals loose heat more quickly.\\\\nrubbing your hands together!\\\\napply a wet towel with bleach on to the surface of your skin.\\\\nadults produce the sounds by rubbing the upper surface of the abdomen against the hind wings .\\\\nthis layer is only found in the thickened skin of the soles of the feet, the palms of the hands, and the lips at the entrance to the mouth.\\\\nthe sebaceous glands are found throughout all areas of the skin except the palms of the hands and soles of the feet .\\\\nthe morning sponge-bath, followed by a little brisk rubbing with the palms of the hands, is a luxury that should be enjoyed by all, save the extremely feeble or delicate.\\\\nhowever , this observation of \\\\\" wetting by rubbing into glass surface \\\\\" has created a widely spread misconception that the gallium-based liquid metals wet glass surfaces , as if the liquid breaks free of the oxide skin and wets the surface .\\\\nthe procedure involves rubbing warm oils or gels on a person\\'s skin with a coin or other flat metal object.\\\\nwork may be completely converted into heat, as briskly rubbing your hands together demonstrates, but it is not possible to completely convert heat into useful work.\\\\nthe molinillo is held between the palms and rotated by rubbing the palms together ; this rotation creates the froth in the drink .\\\\nleads to more heat loss at skin surface.\\\\nleads to less heat loss at skin surface\\\\nif i\\'m aware the plants have touched exposed skin, i quickly douse the area with rubbing alchohol.\\\\nbecause a smooth surface minimizes the amount of rubbing against it by another object by making it slide just as a wet surface might do.\\\\ncows, in contrast, produce large, flat, wet droppings, which heat up and quickly lose much of their nitrogen (in the form of ammonia) to the atmosphere\\\\u2026.\\\\nthe mites live in colonies on the surface of the skin and spread quickly.\\\\nthe palms of the hands and the soles of the feet\\\\nsome palms are part of hands.\\\\npalms of the hands and soles of the feet.\\\\npalms of hands and soles of feet\\\\nworking clay on a surface with the palms of the hands in order to obtain a uniform consistency *** folding it into itself is key.\",',\n",
       " '  \"(in this activity, let the pupils understand that in rubbing their hands together, heat is produced and the heat produced makes their hands warm.)\\\\nwhen the skin surface is exposed to heat, warm blood flushes into the ______________ and heat radiates from the skin surface.\\\\nglabrous skin covers the surface of the palms of the hands, soles of the feet, and flexor surfaces of the digits.\\\\nheat up the oil a bit in the microwave and rub it into the skin with your hands.\\\\nsevere rash with skin swelling (including on the palms of the hands and soles of the feet)\\\\nwhen the body becomes too warm, blood vessels in the skin dilate, allowing heat to escape through the surface of the skin.\\\\n--\\\\\"skunk\\'s oil has cured colds quickly by rubbing on chest and throat.\\\\\"\\\\nthe mechanical energy of rubbing your hands together is converted to thermal (heat) energy.\\\\nthis is because in warm-blooded animals, the heat they lose is proportional to the surface area of their bodies, while the heat they produce is proportional to their mass.\\\\ni.e., rubbing the skin with pumice and applying heat sound very risky.\\\\nwarm a little olive oil, coconut oil or almond oil and gently massage rubbing this oil on to your scalp in circular motions.\\\\nthese glands exist in humans throughout the skin except in the palms of the hands and soles of the feet.\\\\nthe skin of the palms of the hands and the soles of the feet may become thick and break open .\\\\nthe condition may occur anywhere on the skin except the palms of the hands and soles of the feet .\\\\nhand warmers are small ( mostly disposable ) packets which are held in the hand and produce heat on demand to warm cold hands .\\\\nfriction between two surfaces can warm of both of them (e.g., rubbing hands together).\\\\n\\\\u25cf\\\\u00a0\\\\u00a0\\\\u00a0\\\\u00a0 rubbing both the hands together to create heat\\\\nthe wrinkles on the skin are designed to produce more surface area through which heat can be dissipated.\\\\ncarry, clacking, rubbing on surface, rubbing surface\\\\nas the warm blood from the arteries flows past the vein, they transfer heat to the veins\\\\u00a0before the veins lose their heat to the surface of the skin.\\\\nrubbing his hands.\\\\na warm-blooded vertebrate having the skin covered with hair\\\\nthe swelling can be reduced by mild rubbing with warm carbolized oil used every day.\\\\nwhich epidermal layer is present on the palms of your hands but not on the skin from your arm?\\\\nas a couple of taller kids hogged the ball, he lagged behind them, quickly rubbing some heat along his arms with his hands before they turned around.\\\\nmotion produces heat when we rub the palms of our hands briskly together.\\\\nthe skin of the mantis snatched itself quickly out of the children\\'s hands.\\\\nif you rub your hands together really quickly, they will be warm too.\\\\noil palms produce 38 % of vegetable oil output on 5 % of the world ? s vegetable-oil farmland .\\\\nit does this by rubbing the front of its head on a rough surface until the skin splits.\\\\na friction burn is a form of abrasion caused by the friction of skin rubbing against a surface .\\\\nthe palms of the hands are naked.\\\\nsmaller warm-blooded animals lose heat more quickly.\\\\nsmaller warm-blooded animals loose heat more quickly.\\\\nwarm water strips the oil from their skin and feathers.\\\\nareas of the skin not covered with hair, such as the palms and soles of the feet, are most susceptible to fungal infections.\\\\nrubbing your hands together!\\\\nadults produce the sounds by rubbing the upper surface of the abdomen against the hind wings .\\\\nthis layer is only found in the thickened skin of the soles of the feet, the palms of the hands, and the lips at the entrance to the mouth.\\\\nthe sebaceous glands are found throughout all areas of the skin except the palms of the hands and soles of the feet .\\\\nother chief crops include coffee , bananas , and oil palms , which produce palm oil and kernels .\\\\nskin covered with overlapping scales, both shed their skin and scales, and live in warm areas\\\\nthe morning sponge-bath, followed by a little brisk rubbing with the palms of the hands, is a luxury that should be enjoyed by all, save the extremely feeble or delicate.\\\\nor lightly coat your hands in flavourless oil (such as sunflower) and roll the truffles between your palms.\\\\n--wrinkled hands belong to age, and are due to loss of oil in the skin.\\\\nthe procedure involves rubbing warm oils or gels on a person\\'s skin with a coin or other flat metal object.\\\\nwork may be completely converted into heat, as briskly rubbing your hands together demonstrates, but it is not possible to completely convert heat into useful work.\\\\nthe molinillo is held between the palms and rotated by rubbing the palms together ; this rotation creates the froth in the drink .\\\\nleads to more heat loss at skin surface.\\\\nleads to less heat loss at skin surface\",',\n",
       " '  \"(in this activity, let the pupils understand that in rubbing their hands together, heat is produced and the heat produced makes their hands warm.)\\\\nwhen the skin surface is exposed to heat, warm blood flushes into the ______________ and heat radiates from the skin surface.\\\\nglabrous skin covers the surface of the palms of the hands, soles of the feet, and flexor surfaces of the digits.\\\\nsevere rash with skin swelling (including on the palms of the hands and soles of the feet)\\\\nwhen the body becomes too warm, blood vessels in the skin dilate, allowing heat to escape through the surface of the skin.\\\\nthe mechanical energy of rubbing your hands together is converted to thermal (heat) energy.\\\\nthis is because in warm-blooded animals, the heat they lose is proportional to the surface area of their bodies, while the heat they produce is proportional to their mass.\\\\ni.e., rubbing the skin with pumice and applying heat sound very risky.\\\\ntheir permeable skin could absorb harmful chemicals from your hands, such as lotion or bug repellent.\\\\nchapped hands, soothing lotion for.\\\\nthese glands exist in humans throughout the skin except in the palms of the hands and soles of the feet.\\\\nthe skin of the palms of the hands and the soles of the feet may become thick and break open .\\\\nthe condition may occur anywhere on the skin except the palms of the hands and soles of the feet .\\\\nhand warmers are small ( mostly disposable ) packets which are held in the hand and produce heat on demand to warm cold hands .\\\\nfriction between two surfaces can warm of both of them (e.g., rubbing hands together).\\\\n\\\\u25cf\\\\u00a0\\\\u00a0\\\\u00a0\\\\u00a0 rubbing both the hands together to create heat\\\\nthe wrinkles on the skin are designed to produce more surface area through which heat can be dissipated.\\\\ncarry, clacking, rubbing on surface, rubbing surface\\\\nas the warm blood from the arteries flows past the vein, they transfer heat to the veins\\\\u00a0before the veins lose their heat to the surface of the skin.\\\\nrubbing his hands.\\\\na warm-blooded vertebrate having the skin covered with hair\\\\nwhich epidermal layer is present on the palms of your hands but not on the skin from your arm?\\\\nas a couple of taller kids hogged the ball, he lagged behind them, quickly rubbing some heat along his arms with his hands before they turned around.\\\\nmotion produces heat when we rub the palms of our hands briskly together.\\\\nthe skin of the mantis snatched itself quickly out of the children\\'s hands.\\\\nif you rub your hands together really quickly, they will be warm too.\\\\nmost lotion protects skin.\\\\nit is applied on the skin as a cream or lotion .\\\\n* * calamine lotion , for skin inflammations .\\\\nit does this by rubbing the front of its head on a rough surface until the skin splits.\\\\na friction burn is a form of abrasion caused by the friction of skin rubbing against a surface .\\\\nthe palms of the hands are naked.\\\\nsmaller warm-blooded animals lose heat more quickly.\\\\nsmaller warm-blooded animals loose heat more quickly.\\\\nareas of the skin not covered with hair, such as the palms and soles of the feet, are most susceptible to fungal infections.\\\\nrubbing your hands together!\\\\nadults produce the sounds by rubbing the upper surface of the abdomen against the hind wings .\\\\nthis layer is only found in the thickened skin of the soles of the feet, the palms of the hands, and the lips at the entrance to the mouth.\\\\nthe sebaceous glands are found throughout all areas of the skin except the palms of the hands and soles of the feet .\\\\nskin covered with overlapping scales, both shed their skin and scales, and live in warm areas\\\\nthe morning sponge-bath, followed by a little brisk rubbing with the palms of the hands, is a luxury that should be enjoyed by all, save the extremely feeble or delicate.\\\\n\\\\u201cuh, i thought maybe you had some of the ones with lotion,\\\\u201d scully covered quickly.\\\\npatting rather than rubbing the skin after bathing and thoroughly massaging lubricating lotion or nonprescription cortisone creams into still-damp skin can soothe red, irritated nummular dermatitis.\\\\nlotion\\\\tnoun\\\\t# a \\'lotion\\' is a cream or ointment used on the skin to clean, heal or protect.\\\\nthe procedure involves rubbing warm oils or gels on a person\\'s skin with a coin or other flat metal object.\\\\nwork may be completely converted into heat, as briskly rubbing your hands together demonstrates, but it is not possible to completely convert heat into useful work.\\\\nthe molinillo is held between the palms and rotated by rubbing the palms together ; this rotation creates the froth in the drink .\\\\nwhatever lotion is employed, always use it warm.\\\\nthe navajo used this plant as a skin lotion .\\\\nleads to more heat loss at skin surface.\"',\n",
       " ' ],',\n",
       " ' \"ARC-Challenge-Train.jsonl-MCAS_2009_5_6516\": [',\n",
       " '  \"there are magnets in your refrigerator holding the door closed.\\\\nwhy does a magnet stick to a refrigerator door?\\\\nrefrigerator magnets are used to adorn kitchens, as a souvenir , or simply to hold a note or photo to the refrigerator door.\\\\n* refrigerator magnets are used to adorn kitchens , as a souvenir , or simply to hold a note or photo to the refrigerator door .\\\\nthe door of a refrigerator is left open.\\\\nan everyday example is a refrigerator magnet used to hold notes on a refrigerator door.\\\\nin australia , the \\\\\" refrigerator rule \\\\\" applies , and a refrigerator door is not opened from the inside .\\\\nan everyday example is a refrigerator magnet used to hold notes on a refrigerator door .\\\\n* a cooling zone in the refrigerator door shelves .\\\\nfood in a refrigerator with its door open .\\\\nan everyday example of ferromagnetism is a refrigerator magnet used to hold notes on a refrigerator door.\\\\nan everyday example of ferromagnetism is a refrigerator magnet used to hold notes on a refrigerator door .\\\\ni mean if i take two magnets and put them next to each other sometimes they\\'ll stick and sometimes they\\'ll repel but if i take a permanent magnet put it on to a refrigerator door, then take it off and turn it around, put it back on the refrigerator door, there\\'s no repulsion that\\'s because the refrigerator door will just do whatever the external magnetic field tells it to do.\\\\nit has something to do with leaving the refrigerator door open\\\\nstore your milk in the back of the refrigerator or freezer, not in the door.\\\\nwe actually installed a child lock on the refrigerator door.\\\\ndometic 2-door refrigerator w/stainless fronts\\\\nhe goes to the kitchen in disgust for a beer and finds the refrigerator locked, with a note from percy on the door, warning that the refrigerator door must never be opened again.\\\\nthe formula is then retrieved from the refrigerator where the dirty door handle or refrigerator shelf has not been cleaned.\\\\ncigar the cumarone.it is downward stick the long-acting sliding-door in the earsplitting amana refrigerator specifications of a hen-house.\\\\nthe never-never oxford unbolted.when how to fix a refrigerator valdosta the anorthography narrowed ge refrigerator door gasket afghani, how to fix a refrigerator\\\\nwhy does the door of a refrigerator close by itself after opening?\\\\nice2o french door bottom freezer : store bread in refrigerator\\\\nthe temperature inside the refrigerator will stay cooler than in the door area.\\\\ntalbot opens a steel door and steps into the chill of a walk-in refrigerator.\\\\nthat film references the howling with a smiley face image on a refrigerator door .\\\\nfrom the refrigerator door to the strips on our credit cards to the very computers used to process the savings here at misterart.com, magnets are everywhere!\\\\nsome cans have extra conveniences built in such as magnetic backing to catch and hold metal caps or stick to a refrigerator door .\\\\nair from the freezer section is diverted to the refrigerator door , to cool milk or juice stored in the door shelf .\\\\nkeep them in their carton and place them in the coldest part of the refrigerator, not in the door.\\\\nalso do not store the vaccine in the door of a refrigerator, as there are too many temperature fluctuations with frequent opening and closing of the door.\\\\nit is often bantered that the alaskan malamute will open the door for a burglar and show him to the refrigerator.\\\\nphysics: pyrex glassware resistence to temp changes; refrigerator door left open\\\\n* to keep cold or hot air outside -lrb- or inside , such as the door on a refrigerator -rrb- .\\\\nthis includes everything from your car\\'s steel body to your refrigerator door.\\\\nthe shelf of the refrigerator is too cold, which is why we say to keep them in the door which is usually a little warmer.\\\\nbecause the magnets are attached to the pin-holder and the refrigerator.\\\\nhe stepped around the refrigerator again and stuck his head out the front door.\\\\nsome athirst maytag counter depth french door refrigerator hearsay appurtenances governanceed\\\\nthe interior lamp of a household refrigerator is controlled by a switch that is held open when the door is closed.\\\\ni bought a talking refrigerator that said \\\\\"oink\\\\\" every time i opened the door.\\\\nput eggs and milk inside the refrigerator; don\\\\u2019t store them in the door.\\\\nthe interior lamp of a household refrigerator is controlled by a switch that is held open when the door is closed .\\\\nwhich of the following statements best explains\\\\nwhich of the following statements best explains this?\\\\n* a drop down door built into the refrigerator main door , giving easy access to frequently used items such as milk , thus saving energy by not having to open the main door .\\\\nin the kitchen, keep an eye out for mold in refrigerator drip pans, door seals, and garbage pails.\\\\nthey are used to make magnets , for devices such as refrigerator magnets , loudspeakers and small electric motors .\\\\nwhich of the following statements best explains this prediction?\\\\nplace wax worms in the door of our refrigerator, or a cool basement if you plan to keep them for a while.\",',\n",
       " '  \"there are magnets in your refrigerator holding the door closed.\\\\nwhy does a magnet stick to a refrigerator door?\\\\nrefrigerator magnets are used to adorn kitchens, as a souvenir , or simply to hold a note or photo to the refrigerator door.\\\\n* refrigerator magnets are used to adorn kitchens , as a souvenir , or simply to hold a note or photo to the refrigerator door .\\\\nthe door of a refrigerator is left open.\\\\nan everyday example is a refrigerator magnet used to hold notes on a refrigerator door.\\\\nin australia , the \\\\\" refrigerator rule \\\\\" applies , and a refrigerator door is not opened from the inside .\\\\nan everyday example is a refrigerator magnet used to hold notes on a refrigerator door .\\\\n* a cooling zone in the refrigerator door shelves .\\\\nfood in a refrigerator with its door open .\\\\nan everyday example of ferromagnetism is a refrigerator magnet used to hold notes on a refrigerator door.\\\\nan everyday example of ferromagnetism is a refrigerator magnet used to hold notes on a refrigerator door .\\\\ni mean if i take two magnets and put them next to each other sometimes they\\'ll stick and sometimes they\\'ll repel but if i take a permanent magnet put it on to a refrigerator door, then take it off and turn it around, put it back on the refrigerator door, there\\'s no repulsion that\\'s because the refrigerator door will just do whatever the external magnetic field tells it to do.\\\\nit has something to do with leaving the refrigerator door open\\\\nstore your milk in the back of the refrigerator or freezer, not in the door.\\\\nwe actually installed a child lock on the refrigerator door.\\\\ndometic 2-door refrigerator w/stainless fronts\\\\nhe goes to the kitchen in disgust for a beer and finds the refrigerator locked, with a note from percy on the door, warning that the refrigerator door must never be opened again.\\\\nthe formula is then retrieved from the refrigerator where the dirty door handle or refrigerator shelf has not been cleaned.\\\\ncigar the cumarone.it is downward stick the long-acting sliding-door in the earsplitting amana refrigerator specifications of a hen-house.\\\\nthe never-never oxford unbolted.when how to fix a refrigerator valdosta the anorthography narrowed ge refrigerator door gasket afghani, how to fix a refrigerator\\\\nwhy does the door of a refrigerator close by itself after opening?\\\\nice2o french door bottom freezer : store bread in refrigerator\\\\nthe temperature inside the refrigerator will stay cooler than in the door area.\\\\ntalbot opens a steel door and steps into the chill of a walk-in refrigerator.\\\\nthat film references the howling with a smiley face image on a refrigerator door .\\\\nfrom the refrigerator door to the strips on our credit cards to the very computers used to process the savings here at misterart.com, magnets are everywhere!\\\\nsome cans have extra conveniences built in such as magnetic backing to catch and hold metal caps or stick to a refrigerator door .\\\\nair from the freezer section is diverted to the refrigerator door , to cool milk or juice stored in the door shelf .\\\\nkeep them in their carton and place them in the coldest part of the refrigerator, not in the door.\\\\nalso do not store the vaccine in the door of a refrigerator, as there are too many temperature fluctuations with frequent opening and closing of the door.\\\\nbe sure to try some typical refrigerator magnets (usually very weak since they can barely hold one piece of paper to the fridge door) as well as some stronger rare-earth magnets (neodymium-iron-boron magnets which can easily hold a stack of 20 sheets to the fridge).\\\\nit is often bantered that the alaskan malamute will open the door for a burglar and show him to the refrigerator.\\\\nphysics: pyrex glassware resistence to temp changes; refrigerator door left open\\\\n* to keep cold or hot air outside -lrb- or inside , such as the door on a refrigerator -rrb- .\\\\nthis includes everything from your car\\'s steel body to your refrigerator door.\\\\nthe shelf of the refrigerator is too cold, which is why we say to keep them in the door which is usually a little warmer.\\\\nbecause the magnets are attached to the pin-holder and the refrigerator.\\\\nhe stepped around the refrigerator again and stuck his head out the front door.\\\\nsome athirst maytag counter depth french door refrigerator hearsay appurtenances governanceed\\\\nthe interior lamp of a household refrigerator is controlled by a switch that is held open when the door is closed.\\\\ni bought a talking refrigerator that said \\\\\"oink\\\\\" every time i opened the door.\\\\nput eggs and milk inside the refrigerator; don\\\\u2019t store them in the door.\\\\nthe interior lamp of a household refrigerator is controlled by a switch that is held open when the door is closed .\\\\nwhich of the following statements best explains\\\\nwhich of the following statements best explains this?\\\\n* a drop down door built into the refrigerator main door , giving easy access to frequently used items such as milk , thus saving energy by not having to open the main door .\\\\nceramic magnets, like the ones used in refrigerator magnets and elementary-school science experiments, contain iron oxide in a ceramic composite.\\\\nin the kitchen, keep an eye out for mold in refrigerator drip pans, door seals, and garbage pails.\\\\nthey are used to make magnets , for devices such as refrigerator magnets , loudspeakers and small electric motors .\",']"
      ]
     },
     "execution_count": 39,
     "metadata": {},
     "output_type": "execute_result"
    }
   ],
   "source": [
    "arc_lines[0:10]"
   ]
  },
  {
   "cell_type": "code",
   "execution_count": 40,
   "metadata": {},
   "outputs": [],
   "source": [
    "rem_data = []\n",
    "rem_data.append(examples[250])\n",
    "rem_data.append(examples[500])"
   ]
  },
  {
   "cell_type": "code",
   "execution_count": 41,
   "metadata": {},
   "outputs": [
    {
     "ename": "NameError",
     "evalue": "name 'proces_arc' is not defined",
     "output_type": "error",
     "traceback": [
      "\u001b[0;31m---------------------------------------------------------------------------\u001b[0m",
      "\u001b[0;31mNameError\u001b[0m                                 Traceback (most recent call last)",
      "\u001b[0;32m<ipython-input-41-59a8eef4d95e>\u001b[0m in \u001b[0;36m<module>\u001b[0;34m\u001b[0m\n\u001b[0;32m----> 1\u001b[0;31m \u001b[0mmatch_\u001b[0m \u001b[0;34m=\u001b[0m \u001b[0mproces_arc\u001b[0m\u001b[0;34m(\u001b[0m\u001b[0mrem_data\u001b[0m\u001b[0;34m)\u001b[0m\u001b[0;34m\u001b[0m\u001b[0;34m\u001b[0m\u001b[0m\n\u001b[0m",
      "\u001b[0;31mNameError\u001b[0m: name 'proces_arc' is not defined"
     ]
    }
   ],
   "source": [
    "match_ = proces_arc(rem_data)"
   ]
  },
  {
   "cell_type": "code",
   "execution_count": null,
   "metadata": {},
   "outputs": [],
   "source": [
    "len(match_)"
   ]
  },
  {
   "cell_type": "code",
   "execution_count": null,
   "metadata": {},
   "outputs": [],
   "source": [
    "match_[0][0]"
   ]
  },
  {
   "cell_type": "code",
   "execution_count": null,
   "metadata": {},
   "outputs": [],
   "source": [
    "with open(\"arc_rem.mcp\",\"w\") as f:\n",
    "    json.dump(match_,f)"
   ]
  },
  {
   "cell_type": "code",
   "execution_count": null,
   "metadata": {},
   "outputs": [],
   "source": []
  }
 ],
 "metadata": {
  "kernelspec": {
   "display_name": "Python 3",
   "language": "python",
   "name": "python3"
  },
  "language_info": {
   "codemirror_mode": {
    "name": "ipython",
    "version": 3
   },
   "file_extension": ".py",
   "mimetype": "text/x-python",
   "name": "python",
   "nbconvert_exporter": "python",
   "pygments_lexer": "ipython3",
   "version": "3.7.6"
  }
 },
 "nbformat": 4,
 "nbformat_minor": 2
}
